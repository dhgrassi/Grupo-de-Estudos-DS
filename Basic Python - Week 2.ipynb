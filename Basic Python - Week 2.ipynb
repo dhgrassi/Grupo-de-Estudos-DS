{
 "cells": [
  {
   "cell_type": "code",
   "execution_count": 3,
   "id": "ec0a291d",
   "metadata": {},
   "outputs": [
    {
     "name": "stdout",
     "output_type": "stream",
     "text": [
      "[2500, 2401, 2304, 2209, 2116, 2025, 1936, 1849, 1764, 1681, 1600, 1521, 1444, 1369, 1296, 1225, 1156, 1089, 1024, 961, 900, 841, 784, 729, 676, 625, 576, 529, 484, 441, 400, 361, 324, 289, 256, 225, 196, 169, 144, 121, 100, 81, 64, 49, 36, 25, 16, 9, 4, 1, 0, 1, 4, 9, 16, 25, 36, 49, 64, 81, 100, 121, 144, 169, 196, 225, 256, 289, 324, 361, 400, 441, 484, 529, 576, 625, 676, 729, 784, 841, 900, 961, 1024, 1089, 1156, 1225, 1296, 1369, 1444, 1521, 1600, 1681, 1764, 1849, 1936, 2025, 2116, 2209, 2304, 2401, 2500]\n"
     ]
    }
   ],
   "source": [
    "#squared numbers in -50 to 51 range\n",
    "quadr = [x**2 for x in range(-50,51)]\n",
    "print(quadr)"
   ]
  },
  {
   "cell_type": "code",
   "execution_count": 9,
   "id": "a0a69637",
   "metadata": {},
   "outputs": [
    {
     "name": "stdout",
     "output_type": "stream",
     "text": [
      "[0.1, 0.2, 0.3, 0.4, 0.5, 0.6, 0.7, 0.8, 0.9]\n"
     ]
    }
   ],
   "source": [
    "div = [x/10 for x in range(1,10)]\n",
    "print(div)"
   ]
  },
  {
   "cell_type": "code",
   "execution_count": 22,
   "id": "472567bb",
   "metadata": {},
   "outputs": [
    {
     "name": "stdout",
     "output_type": "stream",
     "text": [
      "[0.0, 0.05, 0.1, 0.15, 0.2, 0.25, 0.3, 0.35]\n"
     ]
    }
   ],
   "source": [
    "#Exercício 2.1\n",
    "p = 0.05\n",
    "n = 8\n",
    "PA = [round(p*x,5) for x in range(0,n)]\n",
    "print(PA)\n"
   ]
  },
  {
   "cell_type": "code",
   "execution_count": 30,
   "id": "28cfd3aa",
   "metadata": {},
   "outputs": [],
   "source": [
    "import math"
   ]
  },
  {
   "cell_type": "code",
   "execution_count": 5,
   "id": "0e3fef3b",
   "metadata": {},
   "outputs": [
    {
     "name": "stdout",
     "output_type": "stream",
     "text": [
      "[4, 7, 2, 7, 5, 1, 8, 8, 10, 6, 10, 3, 5, 3, 5, 9, 5, 8, 5, 1, 2, 6, 2, 9, 0]\n"
     ]
    },
    {
     "data": {
      "text/plain": [
       "list"
      ]
     },
     "execution_count": 5,
     "metadata": {},
     "output_type": "execute_result"
    }
   ],
   "source": [
    "#generate list with 25 random elements\n",
    "\n",
    "import random as rd\n",
    "\n",
    "n = 25\n",
    "rand_num = [rd.randint(0,10) for _ in range(n)]\n",
    "print(rand_num)\n",
    "type(rand_num)"
   ]
  },
  {
   "cell_type": "code",
   "execution_count": 42,
   "id": "815a4b1a",
   "metadata": {},
   "outputs": [
    {
     "name": "stdout",
     "output_type": "stream",
     "text": [
      "[-1, 361, -1, 289, -1, 225, -1, 169, -1, 121, -1, 81, -1, 49, -1, 25, -1, 9, -1, 1, -1, 1, -1, 9, -1, 25, -1, 49, -1, 81, -1, 121, -1, 169, -1, 225, -1, 289, -1, 361, -1]\n"
     ]
    }
   ],
   "source": [
    "#squared numbers between -20 and 20. If the result is even, replace by -1.\n",
    "l = [x**2 if (x**2)%2!=0 else -1 for x in range(-20,21)]\n",
    "print(l)"
   ]
  },
  {
   "cell_type": "code",
   "execution_count": 24,
   "id": "581022b2",
   "metadata": {},
   "outputs": [
    {
     "name": "stdout",
     "output_type": "stream",
     "text": [
      "[nan, 0.0, 0.7, 1.1, 1.4, 1.6, 1.8, 1.9, 2.1, 2.2, 2.3, 2.4, 2.5, 2.6, 2.6, 2.7, 2.8, 2.8, 2.9, 2.9, 3.0, 3.0, 3.1, 3.1, 3.2]\n"
     ]
    }
   ],
   "source": [
    "#Exercício 2.2\n",
    "import random as rd\n",
    "import math\n",
    "\n",
    "n = 25\n",
    "rand_num = [rd.randint(0,10) for _ in range(n)]\n",
    "log = [round(math.log(n),1) if (n!=0.0) else math.nan for n in range(n)]\n",
    "print(log)"
   ]
  },
  {
   "cell_type": "code",
   "execution_count": 67,
   "id": "4e1bb852",
   "metadata": {},
   "outputs": [
    {
     "data": {
      "text/plain": [
       "0.0"
      ]
     },
     "execution_count": 67,
     "metadata": {},
     "output_type": "execute_result"
    }
   ],
   "source": [
    "math.log2(1)"
   ]
  },
  {
   "cell_type": "code",
   "execution_count": 68,
   "id": "95f65b86",
   "metadata": {},
   "outputs": [
    {
     "name": "stdout",
     "output_type": "stream",
     "text": [
      "[5, 5, 5, 1, 2, False, 4, 6, False, 7]\n"
     ]
    }
   ],
   "source": [
    "vals1 = [5, 5, 5, 1, 2, 3, 4, 6, 7, 7]\n",
    "vals2 = [5, 5, 5, 1, 2, 4, 4, 6, 6, 7]\n",
    "\n",
    "equal_pos = [x if x == y else False for (x,y) in zip(vals1, vals2)]\n",
    "print(equal_pos)"
   ]
  },
  {
   "cell_type": "code",
   "execution_count": 1,
   "id": "b642ce01",
   "metadata": {},
   "outputs": [
    {
     "name": "stdout",
     "output_type": "stream",
     "text": [
      "[1, 4, 9, 16, 25]\n"
     ]
    }
   ],
   "source": [
    "#Exercício 2.3\n",
    "import math\n",
    "lista1 = [1,2,3,4,5]\n",
    "lista2 = [1,2,3,4,5]\n",
    "mult = [x*y if len(lista1) == len(lista2) else math.nan for (x,y) in zip(lista1, lista2)]\n",
    "print(mult)"
   ]
  },
  {
   "cell_type": "code",
   "execution_count": 25,
   "id": "57dfc827",
   "metadata": {},
   "outputs": [
    {
     "name": "stdout",
     "output_type": "stream",
     "text": [
      "[0, 0, 0, 0]\n",
      "[1, 2, 3, 4]\n",
      "[2, 4, 6, 8]\n",
      "[3, 6, 9, 12]\n"
     ]
    }
   ],
   "source": [
    "#Exercício 2.4\n",
    "n = 4\n",
    "linhas = [[(i+j*i) for j in range(n)] for i in range(n)]\n",
    "\n",
    "for lin in linhas:\n",
    "    print(lin)"
   ]
  },
  {
   "cell_type": "code",
   "execution_count": null,
   "id": "8304835f",
   "metadata": {},
   "outputs": [],
   "source": [
    "#Retornar erro:\n",
    "if len (lista A) != len (lista B):\n",
    "    print ('Tamanhos Diferentes')\n",
    "    return nan\n",
    "else: fórmula\n",
    "    \n",
    "#Transformar lista de string em int\n",
    "inputs = [\"1\", \"4\", \"10\"]\n",
    "for numero_s in inputs:\n",
    "    numero_float = float (numero_s)\n",
    "    print (numero_float + 1)"
   ]
  },
  {
   "cell_type": "code",
   "execution_count": 15,
   "id": "d77a2bcd",
   "metadata": {},
   "outputs": [
    {
     "name": "stdout",
     "output_type": "stream",
     "text": [
      "[1, 0, 0, 0, 0, 0, 0, 0, 0, 0]\n",
      "[0, 1, 0, 0, 0, 0, 0, 0, 0, 0]\n",
      "[0, 0, 1, 0, 0, 0, 0, 0, 0, 0]\n",
      "[0, 0, 0, 1, 0, 0, 0, 0, 0, 0]\n",
      "[0, 0, 0, 0, 1, 0, 0, 0, 0, 0]\n",
      "[0, 0, 0, 0, 0, 1, 0, 0, 0, 0]\n",
      "[0, 0, 0, 0, 0, 0, 1, 0, 0, 0]\n",
      "[0, 0, 0, 0, 0, 0, 0, 1, 0, 0]\n",
      "[0, 0, 0, 0, 0, 0, 0, 0, 1, 0]\n",
      "[0, 0, 0, 0, 0, 0, 0, 0, 0, 1]\n"
     ]
    }
   ],
   "source": [
    "n = 10\n",
    "linhas = [[1 if x == pos else 0 for x in range(n)] for pos in range(n)]\n",
    "\n",
    "for lin in linhas:\n",
    "    print(lin)"
   ]
  },
  {
   "cell_type": "code",
   "execution_count": 23,
   "id": "e942d153",
   "metadata": {},
   "outputs": [
    {
     "name": "stdout",
     "output_type": "stream",
     "text": [
      "[0, 1, 2, 3]\n",
      "[0, 2, 4, 6]\n",
      "[0, 3, 6, 9]\n",
      "[0, 4, 8, 12]\n"
     ]
    }
   ],
   "source": [
    "#Exercício 2.4 invertendo j e i\n",
    "n = 4\n",
    "linhas = [[(i+j*i) for i in range(n)] for j in range(n)]\n",
    "\n",
    "for lin in linhas:\n",
    "    print(lin)"
   ]
  },
  {
   "cell_type": "code",
   "execution_count": 26,
   "id": "f4c6e9e2",
   "metadata": {},
   "outputs": [
    {
     "name": "stdout",
     "output_type": "stream",
     "text": [
      "Betty Holberton\n",
      "Alan Turing\n",
      "Dennis Ritchie\n",
      "Grace Hopper\n"
     ]
    }
   ],
   "source": [
    "cientistas_da_computacao = ['Betty Holberton', 'Alan Turing', 'Dennis Ritchie', 'Grace Hopper']\n",
    "\n",
    "_ = [print(i) for i in cientistas_da_computacao]"
   ]
  },
  {
   "cell_type": "code",
   "execution_count": 27,
   "id": "7b5d263e",
   "metadata": {},
   "outputs": [
    {
     "name": "stdout",
     "output_type": "stream",
     "text": [
      "Help on built-in function sort:\n",
      "\n",
      "sort(*, key=None, reverse=False) method of builtins.list instance\n",
      "    Sort the list in ascending order and return None.\n",
      "    \n",
      "    The sort is in-place (i.e. the list itself is modified) and stable (i.e. the\n",
      "    order of two equal elements is maintained).\n",
      "    \n",
      "    If a key function is given, apply it once to each list item and sort them,\n",
      "    ascending or descending, according to their function values.\n",
      "    \n",
      "    The reverse flag can be set to sort in descending order.\n",
      "\n"
     ]
    }
   ],
   "source": [
    "help(cientistas_da_computacao.sort)"
   ]
  },
  {
   "cell_type": "code",
   "execution_count": 33,
   "id": "db830564",
   "metadata": {},
   "outputs": [
    {
     "name": "stdout",
     "output_type": "stream",
     "text": [
      "['Alan Turing', 'Grace Hopper', 'Dennis Ritchie', 'Betty Holberton']\n",
      "['Alan', 'Turing']\n",
      "ritchie\n",
      "['Betty Holberton', 'Grace Hopper', 'Dennis Ritchie', 'Alan Turing']\n"
     ]
    }
   ],
   "source": [
    "# usando como chave o tamanho\n",
    "cientistas_da_computacao.sort(key=len)\n",
    "print(cientistas_da_computacao)\n",
    "print(cientistas_da_computacao[0].split())\n",
    "print(cientistas_da_computacao[2].split()[-1].lower())\n",
    "cientistas_da_computacao.sort(key = lambda nome: nome.split()[-1].lower())\n",
    "print(cientistas_da_computacao)"
   ]
  },
  {
   "cell_type": "code",
   "execution_count": 64,
   "id": "4b9c56de",
   "metadata": {},
   "outputs": [
    {
     "name": "stdout",
     "output_type": "stream",
     "text": [
      "HOPPER  , G .\n"
     ]
    }
   ],
   "source": [
    "cientistas_ABNT = ['Betty Holberton', 'Alan Turing', 'Dennis Ritchie', 'Grace Hopper']\n",
    "print(cientistas_ABNT[3].split()[-1].upper(),' ,',cientistas_ABNT[3][0].upper(),'.')"
   ]
  },
  {
   "cell_type": "code",
   "execution_count": 50,
   "id": "39ec8742",
   "metadata": {},
   "outputs": [
    {
     "name": "stdout",
     "output_type": "stream",
     "text": [
      "Alan Turing\n"
     ]
    }
   ],
   "source": [
    "print(cientistas_ABNT[1])"
   ]
  },
  {
   "cell_type": "code",
   "execution_count": 61,
   "id": "ba485b61",
   "metadata": {},
   "outputs": [
    {
     "name": "stdout",
     "output_type": "stream",
     "text": [
      "['Dennis', 'Ritchie']\n"
     ]
    }
   ],
   "source": [
    "print(cientistas_da_computacao[2].split())"
   ]
  },
  {
   "cell_type": "code",
   "execution_count": null,
   "id": "1b81011c",
   "metadata": {},
   "outputs": [],
   "source": [
    "nome = input(\"Digite seu nome e último sobrenome: \")\n",
    "print(nome.split()[-1].upper(),' ,',nome[0][0].upper(),'.')"
   ]
  },
  {
   "cell_type": "code",
   "execution_count": 4,
   "id": "8b9818c6",
   "metadata": {},
   "outputs": [
    {
     "data": {
      "text/plain": [
       "'GRASSI, D.'"
      ]
     },
     "execution_count": 4,
     "metadata": {},
     "output_type": "execute_result"
    }
   ],
   "source": [
    "f = lambda nome: nome.split()[-1].upper()+', '+nome.split()[0][0]+'.'\n",
    "f('Dharana Grassi')"
   ]
  },
  {
   "cell_type": "code",
   "execution_count": 15,
   "id": "f02fb68f",
   "metadata": {},
   "outputs": [
    {
     "name": "stdout",
     "output_type": "stream",
     "text": [
      "RITCHIE  , A .\n",
      "RITCHIE  , A .\n",
      "RITCHIE  , A .\n",
      "RITCHIE  , A .\n"
     ]
    }
   ],
   "source": [
    "cientistas_ABNT = ['Betty Holberton', 'Alan Turing', 'Dennis Ritchie', 'Grace Hopper']\n",
    "for n in cientistas_ABNT:\n",
    "    print(cientistas_ABNT[2].split()[-1].upper(),' ,',cientistas_ABNT[1][0].upper(),'.')"
   ]
  },
  {
   "cell_type": "code",
   "execution_count": 14,
   "id": "13894d9f",
   "metadata": {},
   "outputs": [
    {
     "ename": "TypeError",
     "evalue": "list indices must be integers or slices, not str",
     "output_type": "error",
     "traceback": [
      "\u001b[1;31m---------------------------------------------------------------------------\u001b[0m",
      "\u001b[1;31mTypeError\u001b[0m                                 Traceback (most recent call last)",
      "\u001b[1;32m<ipython-input-14-bba84882bc5f>\u001b[0m in \u001b[0;36m<module>\u001b[1;34m\u001b[0m\n\u001b[0;32m      1\u001b[0m \u001b[1;32mfor\u001b[0m \u001b[0mn\u001b[0m \u001b[1;32min\u001b[0m \u001b[0mcientistas_ABNT\u001b[0m\u001b[1;33m:\u001b[0m\u001b[1;33m\u001b[0m\u001b[1;33m\u001b[0m\u001b[0m\n\u001b[1;32m----> 2\u001b[1;33m     \u001b[0mprint\u001b[0m \u001b[1;33m(\u001b[0m\u001b[0mcientistas_ABNT\u001b[0m\u001b[1;33m[\u001b[0m\u001b[0mn\u001b[0m\u001b[1;33m]\u001b[0m\u001b[1;33m)\u001b[0m\u001b[1;33m\u001b[0m\u001b[1;33m\u001b[0m\u001b[0m\n\u001b[0m",
      "\u001b[1;31mTypeError\u001b[0m: list indices must be integers or slices, not str"
     ]
    }
   ],
   "source": [
    "for n in cientistas_ABNT:\n",
    "    print (cientistas_ABNT[n])"
   ]
  },
  {
   "cell_type": "code",
   "execution_count": 1,
   "id": "3d9bb198",
   "metadata": {},
   "outputs": [
    {
     "name": "stdout",
     "output_type": "stream",
     "text": [
      "[('a', [8, 4, 6, 1]), ('b', [1, 2, 3, 4]), ('c', [5, 3, 3, 3])]\n"
     ]
    }
   ],
   "source": [
    "#Exercício 2.6\n",
    "l_tup = [('a',[8, 4, 6, 1]), ('b',[1, 2, 3, 4]), ('c',[5, 3, 3, 3])]\n",
    "print (l_tup)"
   ]
  },
  {
   "cell_type": "code",
   "execution_count": 23,
   "id": "6af2b9c7",
   "metadata": {},
   "outputs": [
    {
     "name": "stdout",
     "output_type": "stream",
     "text": [
      "[[8 4 6 1]\n",
      " [1 2 3 4]\n",
      " [5 3 3 3]]\n"
     ]
    }
   ],
   "source": [
    "import numpy as np\n",
    "\n",
    "arr = np.array([el[1] for el in l_tup])\n",
    "print (arr)\n"
   ]
  },
  {
   "cell_type": "code",
   "execution_count": 24,
   "id": "71bf69d8",
   "metadata": {},
   "outputs": [
    {
     "name": "stdout",
     "output_type": "stream",
     "text": [
      "['a' 'b' 'c']\n"
     ]
    }
   ],
   "source": [
    "#Só as letras:\n",
    "arr = np.array([el[0] for el in l_tup])\n",
    "print (arr)"
   ]
  },
  {
   "cell_type": "code",
   "execution_count": 20,
   "id": "b0751672",
   "metadata": {},
   "outputs": [
    {
     "name": "stdout",
     "output_type": "stream",
     "text": [
      "[4 6 1]\n",
      "[2 3 4]\n",
      "[3 3 3]\n"
     ]
    }
   ],
   "source": [
    "for l in arr:\n",
    "    print(l[-3:])"
   ]
  },
  {
   "cell_type": "code",
   "execution_count": 23,
   "id": "224fe489",
   "metadata": {},
   "outputs": [
    {
     "name": "stdout",
     "output_type": "stream",
     "text": [
      "[[1 1 2 1 3 1 2 1 1 4]\n",
      " [1 2 3 2 1 1 4 2 3 4]\n",
      " [4 4 2 1 3 4 2 4 2 1]\n",
      " [4 2 3 1 2 4 3 4 3 4]\n",
      " [1 1 1 3 4 4 3 1 2 3]\n",
      " [1 1 2 1 4 2 2 1 4 1]]\n"
     ]
    }
   ],
   "source": [
    "#Exercício 2.7\n",
    "import numpy as np\n",
    "x = np.random.randint(1,5,60).reshape(6,10)\n",
    "print (x)\n"
   ]
  },
  {
   "cell_type": "code",
   "execution_count": 12,
   "id": "947fa1e0",
   "metadata": {},
   "outputs": [
    {
     "name": "stdout",
     "output_type": "stream",
     "text": [
      "[[2 4 4]\n",
      " [4 1 4]\n",
      " [3 3 4]\n",
      " [2 3 4]]\n"
     ]
    }
   ],
   "source": [
    "print(x[2:6,[2,5,8]])"
   ]
  },
  {
   "cell_type": "code",
   "execution_count": 15,
   "id": "ce35e795",
   "metadata": {},
   "outputs": [
    {
     "name": "stdout",
     "output_type": "stream",
     "text": [
      "[[2 4 4]\n",
      " [4 1 4]\n",
      " [3 3 4]\n",
      " [2 3 4]]\n"
     ]
    }
   ],
   "source": [
    "z = np.copy(x[2:6,[2,5,8]])\n",
    "print (z)"
   ]
  },
  {
   "cell_type": "code",
   "execution_count": 21,
   "id": "11cbc147",
   "metadata": {},
   "outputs": [
    {
     "name": "stdout",
     "output_type": "stream",
     "text": [
      "[[False  True  True]\n",
      " [ True False  True]\n",
      " [False False  True]\n",
      " [False False  True]]\n",
      "[4 4 4 4 4 4]\n"
     ]
    }
   ],
   "source": [
    "mask1 = (z>=4)\n",
    "print (mask1)\n",
    "print(z[mask1])"
   ]
  },
  {
   "cell_type": "code",
   "execution_count": 17,
   "id": "33e6a862",
   "metadata": {},
   "outputs": [
    {
     "ename": "SyntaxError",
     "evalue": "invalid syntax (<ipython-input-17-ec90fee9aa68>, line 5)",
     "output_type": "error",
     "traceback": [
      "\u001b[1;36m  File \u001b[1;32m\"<ipython-input-17-ec90fee9aa68>\"\u001b[1;36m, line \u001b[1;32m5\u001b[0m\n\u001b[1;33m    print(mask)print('\\nRecuperando apenas os elementos maiores que 7')\u001b[0m\n\u001b[1;37m               ^\u001b[0m\n\u001b[1;31mSyntaxError\u001b[0m\u001b[1;31m:\u001b[0m invalid syntax\n"
     ]
    }
   ],
   "source": [
    "# calculando uma máscara booleana onde o valor True \n",
    "# corresponde aos elementos maiores que 7\n",
    "mask = (x > 7)\n",
    "print('\\nMascara booleana da matriz para valores maiores que 7')\n",
    "print(mask)print('\\nRecuperando apenas os elementos maiores que 7')\n",
    "print(x[mask])"
   ]
  },
  {
   "cell_type": "code",
   "execution_count": 24,
   "id": "0e8c4a50",
   "metadata": {},
   "outputs": [
    {
     "name": "stdout",
     "output_type": "stream",
     "text": [
      "[[1 1 2 1 3 1 2 1 1 4]\n",
      " [1 2 3 2 1 1 4 2 3 4]\n",
      " [4 4 2 1 3 4 2 4 2 1]\n",
      " [4 2 3 1 2 4 3 4 3 4]\n",
      " [1 1 1 3 4 4 3 1 2 3]\n",
      " [1 1 2 1 4 2 2 1 4 1]]\n",
      "\n",
      "Modificando apenas os elementos maiores que 7\n"
     ]
    },
    {
     "ename": "NameError",
     "evalue": "name 'mask' is not defined",
     "output_type": "error",
     "traceback": [
      "\u001b[1;31m---------------------------------------------------------------------------\u001b[0m",
      "\u001b[1;31mNameError\u001b[0m                                 Traceback (most recent call last)",
      "\u001b[1;32m<ipython-input-24-864096d763b8>\u001b[0m in \u001b[0;36m<module>\u001b[1;34m\u001b[0m\n\u001b[0;32m      1\u001b[0m \u001b[0mprint\u001b[0m\u001b[1;33m(\u001b[0m\u001b[0mx\u001b[0m\u001b[1;33m)\u001b[0m\u001b[1;33m\u001b[0m\u001b[1;33m\u001b[0m\u001b[0m\n\u001b[0;32m      2\u001b[0m \u001b[0mprint\u001b[0m\u001b[1;33m(\u001b[0m\u001b[1;34m'\\nModificando apenas os elementos maiores que 7'\u001b[0m\u001b[1;33m)\u001b[0m\u001b[1;33m\u001b[0m\u001b[1;33m\u001b[0m\u001b[0m\n\u001b[1;32m----> 3\u001b[1;33m \u001b[0mx\u001b[0m\u001b[1;33m[\u001b[0m\u001b[0mmask\u001b[0m\u001b[1;33m]\u001b[0m \u001b[1;33m=\u001b[0m \u001b[1;33m-\u001b[0m\u001b[1;36m1\u001b[0m\u001b[1;33m\u001b[0m\u001b[1;33m\u001b[0m\u001b[0m\n\u001b[0m\u001b[0;32m      4\u001b[0m \u001b[0mprint\u001b[0m\u001b[1;33m(\u001b[0m\u001b[0mx\u001b[0m\u001b[1;33m)\u001b[0m\u001b[1;33m\u001b[0m\u001b[1;33m\u001b[0m\u001b[0m\n\u001b[0;32m      5\u001b[0m \u001b[1;33m\u001b[0m\u001b[0m\n",
      "\u001b[1;31mNameError\u001b[0m: name 'mask' is not defined"
     ]
    }
   ],
   "source": [
    "\n",
    "print(x)\n",
    "print('\\nModificando apenas os elementos maiores que 7')\n",
    "x[mask] = -1\n",
    "print(x)\n",
    "\n",
    "print('Filtrando pela negacao da mascara')\n",
    "# filtrando e atribuindo a novo array elementos menores ou iguais a 7\n",
    "y = x[~mask]\n",
    "print(y)"
   ]
  },
  {
   "cell_type": "code",
   "execution_count": 43,
   "id": "6bb03d4d",
   "metadata": {},
   "outputs": [
    {
     "data": {
      "text/html": [
       "<div>\n",
       "<style scoped>\n",
       "    .dataframe tbody tr th:only-of-type {\n",
       "        vertical-align: middle;\n",
       "    }\n",
       "\n",
       "    .dataframe tbody tr th {\n",
       "        vertical-align: top;\n",
       "    }\n",
       "\n",
       "    .dataframe thead th {\n",
       "        text-align: right;\n",
       "    }\n",
       "</style>\n",
       "<table border=\"1\" class=\"dataframe\">\n",
       "  <thead>\n",
       "    <tr style=\"text-align: right;\">\n",
       "      <th></th>\n",
       "      <th>total_bill</th>\n",
       "      <th>tip</th>\n",
       "      <th>sex</th>\n",
       "      <th>smoker</th>\n",
       "      <th>day</th>\n",
       "      <th>time</th>\n",
       "      <th>size</th>\n",
       "    </tr>\n",
       "  </thead>\n",
       "  <tbody>\n",
       "    <tr>\n",
       "      <th>0</th>\n",
       "      <td>16.99</td>\n",
       "      <td>1.01</td>\n",
       "      <td>Female</td>\n",
       "      <td>No</td>\n",
       "      <td>Sun</td>\n",
       "      <td>Dinner</td>\n",
       "      <td>2</td>\n",
       "    </tr>\n",
       "    <tr>\n",
       "      <th>1</th>\n",
       "      <td>10.34</td>\n",
       "      <td>1.66</td>\n",
       "      <td>Male</td>\n",
       "      <td>No</td>\n",
       "      <td>Sun</td>\n",
       "      <td>Dinner</td>\n",
       "      <td>3</td>\n",
       "    </tr>\n",
       "    <tr>\n",
       "      <th>2</th>\n",
       "      <td>21.01</td>\n",
       "      <td>3.50</td>\n",
       "      <td>Male</td>\n",
       "      <td>No</td>\n",
       "      <td>Sun</td>\n",
       "      <td>Dinner</td>\n",
       "      <td>3</td>\n",
       "    </tr>\n",
       "    <tr>\n",
       "      <th>3</th>\n",
       "      <td>23.68</td>\n",
       "      <td>3.31</td>\n",
       "      <td>Male</td>\n",
       "      <td>No</td>\n",
       "      <td>Sun</td>\n",
       "      <td>Dinner</td>\n",
       "      <td>2</td>\n",
       "    </tr>\n",
       "    <tr>\n",
       "      <th>4</th>\n",
       "      <td>24.59</td>\n",
       "      <td>3.61</td>\n",
       "      <td>Female</td>\n",
       "      <td>No</td>\n",
       "      <td>Sun</td>\n",
       "      <td>Dinner</td>\n",
       "      <td>4</td>\n",
       "    </tr>\n",
       "    <tr>\n",
       "      <th>...</th>\n",
       "      <td>...</td>\n",
       "      <td>...</td>\n",
       "      <td>...</td>\n",
       "      <td>...</td>\n",
       "      <td>...</td>\n",
       "      <td>...</td>\n",
       "      <td>...</td>\n",
       "    </tr>\n",
       "    <tr>\n",
       "      <th>240</th>\n",
       "      <td>29.03</td>\n",
       "      <td>5.92</td>\n",
       "      <td>Male</td>\n",
       "      <td>No</td>\n",
       "      <td>Sat</td>\n",
       "      <td>Dinner</td>\n",
       "      <td>3</td>\n",
       "    </tr>\n",
       "    <tr>\n",
       "      <th>241</th>\n",
       "      <td>27.18</td>\n",
       "      <td>NaN</td>\n",
       "      <td>Female</td>\n",
       "      <td>Yes</td>\n",
       "      <td>Sat</td>\n",
       "      <td>Dinner</td>\n",
       "      <td>2</td>\n",
       "    </tr>\n",
       "    <tr>\n",
       "      <th>242</th>\n",
       "      <td>22.67</td>\n",
       "      <td>NaN</td>\n",
       "      <td>Male</td>\n",
       "      <td>Yes</td>\n",
       "      <td>Sat</td>\n",
       "      <td>Dinner</td>\n",
       "      <td>2</td>\n",
       "    </tr>\n",
       "    <tr>\n",
       "      <th>243</th>\n",
       "      <td>17.82</td>\n",
       "      <td>1.75</td>\n",
       "      <td>Male</td>\n",
       "      <td>No</td>\n",
       "      <td>Sat</td>\n",
       "      <td>Dinner</td>\n",
       "      <td>2</td>\n",
       "    </tr>\n",
       "    <tr>\n",
       "      <th>244</th>\n",
       "      <td>NaN</td>\n",
       "      <td>3.00</td>\n",
       "      <td>Female</td>\n",
       "      <td>No</td>\n",
       "      <td>Thur</td>\n",
       "      <td>Dinner</td>\n",
       "      <td>2</td>\n",
       "    </tr>\n",
       "  </tbody>\n",
       "</table>\n",
       "<p>245 rows × 7 columns</p>\n",
       "</div>"
      ],
      "text/plain": [
       "     total_bill   tip     sex smoker   day    time  size\n",
       "0         16.99  1.01  Female     No   Sun  Dinner     2\n",
       "1         10.34  1.66    Male     No   Sun  Dinner     3\n",
       "2         21.01  3.50    Male     No   Sun  Dinner     3\n",
       "3         23.68  3.31    Male     No   Sun  Dinner     2\n",
       "4         24.59  3.61  Female     No   Sun  Dinner     4\n",
       "..          ...   ...     ...    ...   ...     ...   ...\n",
       "240       29.03  5.92    Male     No   Sat  Dinner     3\n",
       "241       27.18   NaN  Female    Yes   Sat  Dinner     2\n",
       "242       22.67   NaN    Male    Yes   Sat  Dinner     2\n",
       "243       17.82  1.75    Male     No   Sat  Dinner     2\n",
       "244         NaN  3.00  Female     No  Thur  Dinner     2\n",
       "\n",
       "[245 rows x 7 columns]"
      ]
     },
     "execution_count": 43,
     "metadata": {},
     "output_type": "execute_result"
    }
   ],
   "source": [
    "#Exercício 2.9\n",
    "import pandas as pd\n",
    "dados = pd.read_csv (r'C:\\Users\\d016734\\Downloads\\tips.csv')\n",
    "dados"
   ]
  },
  {
   "cell_type": "code",
   "execution_count": 36,
   "id": "a996fce0",
   "metadata": {},
   "outputs": [
    {
     "data": {
      "text/html": [
       "<div>\n",
       "<style scoped>\n",
       "    .dataframe tbody tr th:only-of-type {\n",
       "        vertical-align: middle;\n",
       "    }\n",
       "\n",
       "    .dataframe tbody tr th {\n",
       "        vertical-align: top;\n",
       "    }\n",
       "\n",
       "    .dataframe thead th {\n",
       "        text-align: right;\n",
       "    }\n",
       "</style>\n",
       "<table border=\"1\" class=\"dataframe\">\n",
       "  <thead>\n",
       "    <tr style=\"text-align: right;\">\n",
       "      <th></th>\n",
       "      <th>total_bill</th>\n",
       "      <th>size</th>\n",
       "      <th>tip</th>\n",
       "    </tr>\n",
       "  </thead>\n",
       "  <tbody>\n",
       "    <tr>\n",
       "      <th>59</th>\n",
       "      <td>48.27</td>\n",
       "      <td>4</td>\n",
       "      <td>6.73</td>\n",
       "    </tr>\n",
       "    <tr>\n",
       "      <th>95</th>\n",
       "      <td>40.17</td>\n",
       "      <td>4</td>\n",
       "      <td>4.73</td>\n",
       "    </tr>\n",
       "    <tr>\n",
       "      <th>102</th>\n",
       "      <td>44.30</td>\n",
       "      <td>3</td>\n",
       "      <td>2.50</td>\n",
       "    </tr>\n",
       "    <tr>\n",
       "      <th>156</th>\n",
       "      <td>48.17</td>\n",
       "      <td>6</td>\n",
       "      <td>5.00</td>\n",
       "    </tr>\n",
       "    <tr>\n",
       "      <th>170</th>\n",
       "      <td>50.81</td>\n",
       "      <td>3</td>\n",
       "      <td>10.00</td>\n",
       "    </tr>\n",
       "    <tr>\n",
       "      <th>182</th>\n",
       "      <td>45.35</td>\n",
       "      <td>3</td>\n",
       "      <td>3.50</td>\n",
       "    </tr>\n",
       "    <tr>\n",
       "      <th>184</th>\n",
       "      <td>40.55</td>\n",
       "      <td>2</td>\n",
       "      <td>3.00</td>\n",
       "    </tr>\n",
       "    <tr>\n",
       "      <th>211</th>\n",
       "      <td>48.33</td>\n",
       "      <td>4</td>\n",
       "      <td>9.00</td>\n",
       "    </tr>\n",
       "  </tbody>\n",
       "</table>\n",
       "</div>"
      ],
      "text/plain": [
       "     total_bill  size    tip\n",
       "59        48.27     4   6.73\n",
       "95        40.17     4   4.73\n",
       "102       44.30     3   2.50\n",
       "156       48.17     6   5.00\n",
       "170       50.81     3  10.00\n",
       "182       45.35     3   3.50\n",
       "184       40.55     2   3.00\n",
       "211       48.33     4   9.00"
      ]
     },
     "execution_count": 36,
     "metadata": {},
     "output_type": "execute_result"
    }
   ],
   "source": [
    "dados.loc[ (dados['time']=='Dinner') & (dados['total_bill']>=40), ['total_bill','size','tip']]"
   ]
  },
  {
   "cell_type": "code",
   "execution_count": 40,
   "id": "e17ad2d7",
   "metadata": {},
   "outputs": [
    {
     "data": {
      "text/html": [
       "<div>\n",
       "<style scoped>\n",
       "    .dataframe tbody tr th:only-of-type {\n",
       "        vertical-align: middle;\n",
       "    }\n",
       "\n",
       "    .dataframe tbody tr th {\n",
       "        vertical-align: top;\n",
       "    }\n",
       "\n",
       "    .dataframe thead tr th {\n",
       "        text-align: left;\n",
       "    }\n",
       "\n",
       "    .dataframe thead tr:last-of-type th {\n",
       "        text-align: right;\n",
       "    }\n",
       "</style>\n",
       "<table border=\"1\" class=\"dataframe\">\n",
       "  <thead>\n",
       "    <tr>\n",
       "      <th></th>\n",
       "      <th></th>\n",
       "      <th colspan=\"2\" halign=\"left\">tip</th>\n",
       "    </tr>\n",
       "    <tr>\n",
       "      <th></th>\n",
       "      <th></th>\n",
       "      <th>mean</th>\n",
       "      <th>amax</th>\n",
       "    </tr>\n",
       "    <tr>\n",
       "      <th>day</th>\n",
       "      <th>time</th>\n",
       "      <th></th>\n",
       "      <th></th>\n",
       "    </tr>\n",
       "  </thead>\n",
       "  <tbody>\n",
       "    <tr>\n",
       "      <th rowspan=\"2\" valign=\"top\">Fri</th>\n",
       "      <th>Dinner</th>\n",
       "      <td>2.940000</td>\n",
       "      <td>4.73</td>\n",
       "    </tr>\n",
       "    <tr>\n",
       "      <th>Lunch</th>\n",
       "      <td>2.282500</td>\n",
       "      <td>3.48</td>\n",
       "    </tr>\n",
       "    <tr>\n",
       "      <th>Sat</th>\n",
       "      <th>Dinner</th>\n",
       "      <td>3.019647</td>\n",
       "      <td>10.00</td>\n",
       "    </tr>\n",
       "    <tr>\n",
       "      <th>Sun</th>\n",
       "      <th>Dinner</th>\n",
       "      <td>3.255132</td>\n",
       "      <td>6.50</td>\n",
       "    </tr>\n",
       "    <tr>\n",
       "      <th rowspan=\"2\" valign=\"top\">Thur</th>\n",
       "      <th>Dinner</th>\n",
       "      <td>3.000000</td>\n",
       "      <td>3.00</td>\n",
       "    </tr>\n",
       "    <tr>\n",
       "      <th>Lunch</th>\n",
       "      <td>2.780500</td>\n",
       "      <td>6.70</td>\n",
       "    </tr>\n",
       "  </tbody>\n",
       "</table>\n",
       "</div>"
      ],
      "text/plain": [
       "                  tip       \n",
       "                 mean   amax\n",
       "day  time                   \n",
       "Fri  Dinner  2.940000   4.73\n",
       "     Lunch   2.282500   3.48\n",
       "Sat  Dinner  3.019647  10.00\n",
       "Sun  Dinner  3.255132   6.50\n",
       "Thur Dinner  3.000000   3.00\n",
       "     Lunch   2.780500   6.70"
      ]
     },
     "execution_count": 40,
     "metadata": {},
     "output_type": "execute_result"
    }
   ],
   "source": [
    "tips = dados.groupby(['day','time'])[['tip']].agg([np.mean, np.max])\n",
    "tips"
   ]
  },
  {
   "cell_type": "code",
   "execution_count": null,
   "id": "bcc8dc47",
   "metadata": {},
   "outputs": [],
   "source": [
    "#Exercício 10"
   ]
  }
 ],
 "metadata": {
  "kernelspec": {
   "display_name": "Python 3",
   "language": "python",
   "name": "python3"
  },
  "language_info": {
   "codemirror_mode": {
    "name": "ipython",
    "version": 3
   },
   "file_extension": ".py",
   "mimetype": "text/x-python",
   "name": "python",
   "nbconvert_exporter": "python",
   "pygments_lexer": "ipython3",
   "version": "3.8.8"
  }
 },
 "nbformat": 4,
 "nbformat_minor": 5
}
