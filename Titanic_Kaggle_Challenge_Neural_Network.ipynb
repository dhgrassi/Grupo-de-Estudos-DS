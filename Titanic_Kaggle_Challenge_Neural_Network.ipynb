{
  "cells": [
    {
      "cell_type": "markdown",
      "metadata": {
        "id": "view-in-github",
        "colab_type": "text"
      },
      "source": [
        "<a href=\"https://colab.research.google.com/github/dhgrassi/Grupo-de-Estudos-DS/blob/main/Titanic_Kaggle_Challenge_Neural_Network.ipynb\" target=\"_parent\"><img src=\"https://colab.research.google.com/assets/colab-badge.svg\" alt=\"Open In Colab\"/></a>"
      ]
    },
    {
      "cell_type": "code",
      "execution_count": 2,
      "metadata": {
        "id": "Q5eVcQbU0YLg",
        "colab": {
          "base_uri": "https://localhost:8080/",
          "height": 262,
          "resources": {
            "http://localhost:8080/nbextensions/google.colab/files.js": {
              "data": "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",
              "ok": true,
              "headers": [
                [
                  "content-type",
                  "application/javascript"
                ]
              ],
              "status": 200,
              "status_text": ""
            }
          }
        },
        "outputId": "bbbb8898-7112-4bd3-c4b3-afe468253fbb"
      },
      "outputs": [
        {
          "output_type": "display_data",
          "data": {
            "text/html": [
              "\n",
              "     <input type=\"file\" id=\"files-0e1131f6-4c4f-4930-a799-9127896a1492\" name=\"files[]\" multiple disabled\n",
              "        style=\"border:none\" />\n",
              "     <output id=\"result-0e1131f6-4c4f-4930-a799-9127896a1492\">\n",
              "      Upload widget is only available when the cell has been executed in the\n",
              "      current browser session. Please rerun this cell to enable.\n",
              "      </output>\n",
              "      <script src=\"/nbextensions/google.colab/files.js\"></script> "
            ],
            "text/plain": [
              "<IPython.core.display.HTML object>"
            ]
          },
          "metadata": {}
        },
        {
          "output_type": "stream",
          "name": "stdout",
          "text": [
            "Saving train.csv to train.csv\n"
          ]
        },
        {
          "output_type": "execute_result",
          "data": {
            "text/html": [
              "\n",
              "  <div id=\"df-193a8a63-27b3-4710-8718-de62731beb14\">\n",
              "    <div class=\"colab-df-container\">\n",
              "      <div>\n",
              "<style scoped>\n",
              "    .dataframe tbody tr th:only-of-type {\n",
              "        vertical-align: middle;\n",
              "    }\n",
              "\n",
              "    .dataframe tbody tr th {\n",
              "        vertical-align: top;\n",
              "    }\n",
              "\n",
              "    .dataframe thead th {\n",
              "        text-align: right;\n",
              "    }\n",
              "</style>\n",
              "<table border=\"1\" class=\"dataframe\">\n",
              "  <thead>\n",
              "    <tr style=\"text-align: right;\">\n",
              "      <th></th>\n",
              "      <th>PassengerId</th>\n",
              "      <th>Survived</th>\n",
              "      <th>Pclass</th>\n",
              "      <th>Name</th>\n",
              "      <th>Sex</th>\n",
              "      <th>Age</th>\n",
              "      <th>SibSp</th>\n",
              "      <th>Parch</th>\n",
              "      <th>Ticket</th>\n",
              "      <th>Fare</th>\n",
              "      <th>Cabin</th>\n",
              "      <th>Embarked</th>\n",
              "    </tr>\n",
              "  </thead>\n",
              "  <tbody>\n",
              "    <tr>\n",
              "      <th>0</th>\n",
              "      <td>1</td>\n",
              "      <td>0</td>\n",
              "      <td>3</td>\n",
              "      <td>Braund, Mr. Owen Harris</td>\n",
              "      <td>male</td>\n",
              "      <td>22.0</td>\n",
              "      <td>1</td>\n",
              "      <td>0</td>\n",
              "      <td>A/5 21171</td>\n",
              "      <td>7.2500</td>\n",
              "      <td>NaN</td>\n",
              "      <td>S</td>\n",
              "    </tr>\n",
              "    <tr>\n",
              "      <th>1</th>\n",
              "      <td>2</td>\n",
              "      <td>1</td>\n",
              "      <td>1</td>\n",
              "      <td>Cumings, Mrs. John Bradley (Florence Briggs Th...</td>\n",
              "      <td>female</td>\n",
              "      <td>38.0</td>\n",
              "      <td>1</td>\n",
              "      <td>0</td>\n",
              "      <td>PC 17599</td>\n",
              "      <td>71.2833</td>\n",
              "      <td>C85</td>\n",
              "      <td>C</td>\n",
              "    </tr>\n",
              "    <tr>\n",
              "      <th>2</th>\n",
              "      <td>3</td>\n",
              "      <td>1</td>\n",
              "      <td>3</td>\n",
              "      <td>Heikkinen, Miss. Laina</td>\n",
              "      <td>female</td>\n",
              "      <td>26.0</td>\n",
              "      <td>0</td>\n",
              "      <td>0</td>\n",
              "      <td>STON/O2. 3101282</td>\n",
              "      <td>7.9250</td>\n",
              "      <td>NaN</td>\n",
              "      <td>S</td>\n",
              "    </tr>\n",
              "    <tr>\n",
              "      <th>3</th>\n",
              "      <td>4</td>\n",
              "      <td>1</td>\n",
              "      <td>1</td>\n",
              "      <td>Futrelle, Mrs. Jacques Heath (Lily May Peel)</td>\n",
              "      <td>female</td>\n",
              "      <td>35.0</td>\n",
              "      <td>1</td>\n",
              "      <td>0</td>\n",
              "      <td>113803</td>\n",
              "      <td>53.1000</td>\n",
              "      <td>C123</td>\n",
              "      <td>S</td>\n",
              "    </tr>\n",
              "    <tr>\n",
              "      <th>4</th>\n",
              "      <td>5</td>\n",
              "      <td>0</td>\n",
              "      <td>3</td>\n",
              "      <td>Allen, Mr. William Henry</td>\n",
              "      <td>male</td>\n",
              "      <td>35.0</td>\n",
              "      <td>0</td>\n",
              "      <td>0</td>\n",
              "      <td>373450</td>\n",
              "      <td>8.0500</td>\n",
              "      <td>NaN</td>\n",
              "      <td>S</td>\n",
              "    </tr>\n",
              "  </tbody>\n",
              "</table>\n",
              "</div>\n",
              "      <button class=\"colab-df-convert\" onclick=\"convertToInteractive('df-193a8a63-27b3-4710-8718-de62731beb14')\"\n",
              "              title=\"Convert this dataframe to an interactive table.\"\n",
              "              style=\"display:none;\">\n",
              "        \n",
              "  <svg xmlns=\"http://www.w3.org/2000/svg\" height=\"24px\"viewBox=\"0 0 24 24\"\n",
              "       width=\"24px\">\n",
              "    <path d=\"M0 0h24v24H0V0z\" fill=\"none\"/>\n",
              "    <path d=\"M18.56 5.44l.94 2.06.94-2.06 2.06-.94-2.06-.94-.94-2.06-.94 2.06-2.06.94zm-11 1L8.5 8.5l.94-2.06 2.06-.94-2.06-.94L8.5 2.5l-.94 2.06-2.06.94zm10 10l.94 2.06.94-2.06 2.06-.94-2.06-.94-.94-2.06-.94 2.06-2.06.94z\"/><path d=\"M17.41 7.96l-1.37-1.37c-.4-.4-.92-.59-1.43-.59-.52 0-1.04.2-1.43.59L10.3 9.45l-7.72 7.72c-.78.78-.78 2.05 0 2.83L4 21.41c.39.39.9.59 1.41.59.51 0 1.02-.2 1.41-.59l7.78-7.78 2.81-2.81c.8-.78.8-2.07 0-2.86zM5.41 20L4 18.59l7.72-7.72 1.47 1.35L5.41 20z\"/>\n",
              "  </svg>\n",
              "      </button>\n",
              "      \n",
              "  <style>\n",
              "    .colab-df-container {\n",
              "      display:flex;\n",
              "      flex-wrap:wrap;\n",
              "      gap: 12px;\n",
              "    }\n",
              "\n",
              "    .colab-df-convert {\n",
              "      background-color: #E8F0FE;\n",
              "      border: none;\n",
              "      border-radius: 50%;\n",
              "      cursor: pointer;\n",
              "      display: none;\n",
              "      fill: #1967D2;\n",
              "      height: 32px;\n",
              "      padding: 0 0 0 0;\n",
              "      width: 32px;\n",
              "    }\n",
              "\n",
              "    .colab-df-convert:hover {\n",
              "      background-color: #E2EBFA;\n",
              "      box-shadow: 0px 1px 2px rgba(60, 64, 67, 0.3), 0px 1px 3px 1px rgba(60, 64, 67, 0.15);\n",
              "      fill: #174EA6;\n",
              "    }\n",
              "\n",
              "    [theme=dark] .colab-df-convert {\n",
              "      background-color: #3B4455;\n",
              "      fill: #D2E3FC;\n",
              "    }\n",
              "\n",
              "    [theme=dark] .colab-df-convert:hover {\n",
              "      background-color: #434B5C;\n",
              "      box-shadow: 0px 1px 3px 1px rgba(0, 0, 0, 0.15);\n",
              "      filter: drop-shadow(0px 1px 2px rgba(0, 0, 0, 0.3));\n",
              "      fill: #FFFFFF;\n",
              "    }\n",
              "  </style>\n",
              "\n",
              "      <script>\n",
              "        const buttonEl =\n",
              "          document.querySelector('#df-193a8a63-27b3-4710-8718-de62731beb14 button.colab-df-convert');\n",
              "        buttonEl.style.display =\n",
              "          google.colab.kernel.accessAllowed ? 'block' : 'none';\n",
              "\n",
              "        async function convertToInteractive(key) {\n",
              "          const element = document.querySelector('#df-193a8a63-27b3-4710-8718-de62731beb14');\n",
              "          const dataTable =\n",
              "            await google.colab.kernel.invokeFunction('convertToInteractive',\n",
              "                                                     [key], {});\n",
              "          if (!dataTable) return;\n",
              "\n",
              "          const docLinkHtml = 'Like what you see? Visit the ' +\n",
              "            '<a target=\"_blank\" href=https://colab.research.google.com/notebooks/data_table.ipynb>data table notebook</a>'\n",
              "            + ' to learn more about interactive tables.';\n",
              "          element.innerHTML = '';\n",
              "          dataTable['output_type'] = 'display_data';\n",
              "          await google.colab.output.renderOutput(dataTable, element);\n",
              "          const docLink = document.createElement('div');\n",
              "          docLink.innerHTML = docLinkHtml;\n",
              "          element.appendChild(docLink);\n",
              "        }\n",
              "      </script>\n",
              "    </div>\n",
              "  </div>\n",
              "  "
            ],
            "text/plain": [
              "   PassengerId  Survived  Pclass  ...     Fare Cabin  Embarked\n",
              "0            1         0       3  ...   7.2500   NaN         S\n",
              "1            2         1       1  ...  71.2833   C85         C\n",
              "2            3         1       3  ...   7.9250   NaN         S\n",
              "3            4         1       1  ...  53.1000  C123         S\n",
              "4            5         0       3  ...   8.0500   NaN         S\n",
              "\n",
              "[5 rows x 12 columns]"
            ]
          },
          "metadata": {},
          "execution_count": 2
        }
      ],
      "source": [
        "# libraries and dataset import\n",
        "\n",
        "import pandas as pd\n",
        "import seaborn as sns\n",
        "import matplotlib.pyplot as plt\n",
        "from sklearn.model_selection import train_test_split\n",
        "from tensorflow import keras\n",
        "\n",
        "from google.colab import files\n",
        "uploaded = files.upload()\n",
        "df = pd.read_csv('train.csv')\n",
        "df.head()\n"
      ]
    },
    {
      "cell_type": "markdown",
      "source": [
        ""
      ],
      "metadata": {
        "id": "1wxeWkkm-Qr8"
      }
    },
    {
      "cell_type": "code",
      "execution_count": 4,
      "metadata": {
        "colab": {
          "base_uri": "https://localhost:8080/"
        },
        "id": "JYdJqlLM62wO",
        "outputId": "151dd8e9-5e85-4f2c-bda9-12fa75f082ea"
      },
      "outputs": [
        {
          "output_type": "stream",
          "name": "stdout",
          "text": [
            "<class 'pandas.core.frame.DataFrame'>\n",
            "RangeIndex: 891 entries, 0 to 890\n",
            "Data columns (total 12 columns):\n",
            " #   Column       Non-Null Count  Dtype  \n",
            "---  ------       --------------  -----  \n",
            " 0   PassengerId  891 non-null    int64  \n",
            " 1   Survived     891 non-null    int64  \n",
            " 2   Pclass       891 non-null    int64  \n",
            " 3   Name         891 non-null    object \n",
            " 4   Sex          891 non-null    object \n",
            " 5   Age          714 non-null    float64\n",
            " 6   SibSp        891 non-null    int64  \n",
            " 7   Parch        891 non-null    int64  \n",
            " 8   Ticket       891 non-null    object \n",
            " 9   Fare         891 non-null    float64\n",
            " 10  Cabin        204 non-null    object \n",
            " 11  Embarked     889 non-null    object \n",
            "dtypes: float64(2), int64(5), object(5)\n",
            "memory usage: 83.7+ KB\n"
          ]
        }
      ],
      "source": [
        "#checking for non-nulls and dtypes\n",
        "df.info()"
      ]
    },
    {
      "cell_type": "code",
      "execution_count": null,
      "metadata": {
        "colab": {
          "base_uri": "https://localhost:8080/",
          "height": 558
        },
        "id": "uOKyLq1E9IOz",
        "outputId": "222879bd-ca32-4afe-cec9-d7fe0275032e"
      },
      "outputs": [
        {
          "output_type": "execute_result",
          "data": {
            "text/plain": [
              "<matplotlib.axes._subplots.AxesSubplot at 0x7fbdb1065790>"
            ]
          },
          "metadata": {},
          "execution_count": 6
        },
        {
          "output_type": "display_data",
          "data": {
            "image/png": "[encoded data removed]",
            "text/plain": [
              "<Figure size 1152x648 with 2 Axes>"
            ]
          },
          "metadata": {
            "needs_background": "light"
          }
        }
      ],
      "source": [
        "plt.figure(figsize=(16,9))\n",
        "sns.heatmap(df.corr(),\n",
        "            annot=True,\n",
        "            cmap=\"GnBu\")\n",
        "\n",
        "#Numeric correlation shows that survived or not has stronger correlation with Pclass and Fare"
      ]
    },
    {
      "cell_type": "code",
      "execution_count": 8,
      "metadata": {
        "colab": {
          "base_uri": "https://localhost:8080/",
          "height": 468
        },
        "id": "jCBocpJP-0lG",
        "outputId": "e3c5bf5a-198b-4fbc-c66c-2199281a4b71"
      },
      "outputs": [
        {
          "output_type": "execute_result",
          "data": {
            "text/html": [
              "\n",
              "  <div id=\"df-ba9ee0d2-0d24-4c2d-b48a-48cfc8676f71\">\n",
              "    <div class=\"colab-df-container\">\n",
              "      <div>\n",
              "<style scoped>\n",
              "    .dataframe tbody tr th:only-of-type {\n",
              "        vertical-align: middle;\n",
              "    }\n",
              "\n",
              "    .dataframe tbody tr th {\n",
              "        vertical-align: top;\n",
              "    }\n",
              "\n",
              "    .dataframe thead th {\n",
              "        text-align: right;\n",
              "    }\n",
              "</style>\n",
              "<table border=\"1\" class=\"dataframe\">\n",
              "  <thead>\n",
              "    <tr style=\"text-align: right;\">\n",
              "      <th></th>\n",
              "      <th>PassengerId</th>\n",
              "      <th>sexcode</th>\n",
              "      <th>Survived</th>\n",
              "      <th>Pclass</th>\n",
              "      <th>Name</th>\n",
              "      <th>Sex</th>\n",
              "      <th>Age</th>\n",
              "      <th>SibSp</th>\n",
              "      <th>Parch</th>\n",
              "      <th>Ticket</th>\n",
              "      <th>Fare</th>\n",
              "      <th>Cabin</th>\n",
              "      <th>Embarked</th>\n",
              "    </tr>\n",
              "  </thead>\n",
              "  <tbody>\n",
              "    <tr>\n",
              "      <th>0</th>\n",
              "      <td>1</td>\n",
              "      <td>1.0</td>\n",
              "      <td>0</td>\n",
              "      <td>3</td>\n",
              "      <td>Braund, Mr. Owen Harris</td>\n",
              "      <td>male</td>\n",
              "      <td>22.0</td>\n",
              "      <td>1</td>\n",
              "      <td>0</td>\n",
              "      <td>A/5 21171</td>\n",
              "      <td>7.2500</td>\n",
              "      <td>NaN</td>\n",
              "      <td>S</td>\n",
              "    </tr>\n",
              "    <tr>\n",
              "      <th>1</th>\n",
              "      <td>2</td>\n",
              "      <td>0.0</td>\n",
              "      <td>1</td>\n",
              "      <td>1</td>\n",
              "      <td>Cumings, Mrs. John Bradley (Florence Briggs Th...</td>\n",
              "      <td>female</td>\n",
              "      <td>38.0</td>\n",
              "      <td>1</td>\n",
              "      <td>0</td>\n",
              "      <td>PC 17599</td>\n",
              "      <td>71.2833</td>\n",
              "      <td>C85</td>\n",
              "      <td>C</td>\n",
              "    </tr>\n",
              "    <tr>\n",
              "      <th>2</th>\n",
              "      <td>3</td>\n",
              "      <td>0.0</td>\n",
              "      <td>1</td>\n",
              "      <td>3</td>\n",
              "      <td>Heikkinen, Miss. Laina</td>\n",
              "      <td>female</td>\n",
              "      <td>26.0</td>\n",
              "      <td>0</td>\n",
              "      <td>0</td>\n",
              "      <td>STON/O2. 3101282</td>\n",
              "      <td>7.9250</td>\n",
              "      <td>NaN</td>\n",
              "      <td>S</td>\n",
              "    </tr>\n",
              "    <tr>\n",
              "      <th>3</th>\n",
              "      <td>4</td>\n",
              "      <td>0.0</td>\n",
              "      <td>1</td>\n",
              "      <td>1</td>\n",
              "      <td>Futrelle, Mrs. Jacques Heath (Lily May Peel)</td>\n",
              "      <td>female</td>\n",
              "      <td>35.0</td>\n",
              "      <td>1</td>\n",
              "      <td>0</td>\n",
              "      <td>113803</td>\n",
              "      <td>53.1000</td>\n",
              "      <td>C123</td>\n",
              "      <td>S</td>\n",
              "    </tr>\n",
              "    <tr>\n",
              "      <th>4</th>\n",
              "      <td>5</td>\n",
              "      <td>1.0</td>\n",
              "      <td>0</td>\n",
              "      <td>3</td>\n",
              "      <td>Allen, Mr. William Henry</td>\n",
              "      <td>male</td>\n",
              "      <td>35.0</td>\n",
              "      <td>0</td>\n",
              "      <td>0</td>\n",
              "      <td>373450</td>\n",
              "      <td>8.0500</td>\n",
              "      <td>NaN</td>\n",
              "      <td>S</td>\n",
              "    </tr>\n",
              "    <tr>\n",
              "      <th>...</th>\n",
              "      <td>...</td>\n",
              "      <td>...</td>\n",
              "      <td>...</td>\n",
              "      <td>...</td>\n",
              "      <td>...</td>\n",
              "      <td>...</td>\n",
              "      <td>...</td>\n",
              "      <td>...</td>\n",
              "      <td>...</td>\n",
              "      <td>...</td>\n",
              "      <td>...</td>\n",
              "      <td>...</td>\n",
              "      <td>...</td>\n",
              "    </tr>\n",
              "    <tr>\n",
              "      <th>886</th>\n",
              "      <td>887</td>\n",
              "      <td>1.0</td>\n",
              "      <td>0</td>\n",
              "      <td>2</td>\n",
              "      <td>Montvila, Rev. Juozas</td>\n",
              "      <td>male</td>\n",
              "      <td>27.0</td>\n",
              "      <td>0</td>\n",
              "      <td>0</td>\n",
              "      <td>211536</td>\n",
              "      <td>13.0000</td>\n",
              "      <td>NaN</td>\n",
              "      <td>S</td>\n",
              "    </tr>\n",
              "    <tr>\n",
              "      <th>887</th>\n",
              "      <td>888</td>\n",
              "      <td>0.0</td>\n",
              "      <td>1</td>\n",
              "      <td>1</td>\n",
              "      <td>Graham, Miss. Margaret Edith</td>\n",
              "      <td>female</td>\n",
              "      <td>19.0</td>\n",
              "      <td>0</td>\n",
              "      <td>0</td>\n",
              "      <td>112053</td>\n",
              "      <td>30.0000</td>\n",
              "      <td>B42</td>\n",
              "      <td>S</td>\n",
              "    </tr>\n",
              "    <tr>\n",
              "      <th>888</th>\n",
              "      <td>889</td>\n",
              "      <td>0.0</td>\n",
              "      <td>0</td>\n",
              "      <td>3</td>\n",
              "      <td>Johnston, Miss. Catherine Helen \"Carrie\"</td>\n",
              "      <td>female</td>\n",
              "      <td>NaN</td>\n",
              "      <td>1</td>\n",
              "      <td>2</td>\n",
              "      <td>W./C. 6607</td>\n",
              "      <td>23.4500</td>\n",
              "      <td>NaN</td>\n",
              "      <td>S</td>\n",
              "    </tr>\n",
              "    <tr>\n",
              "      <th>889</th>\n",
              "      <td>890</td>\n",
              "      <td>1.0</td>\n",
              "      <td>1</td>\n",
              "      <td>1</td>\n",
              "      <td>Behr, Mr. Karl Howell</td>\n",
              "      <td>male</td>\n",
              "      <td>26.0</td>\n",
              "      <td>0</td>\n",
              "      <td>0</td>\n",
              "      <td>111369</td>\n",
              "      <td>30.0000</td>\n",
              "      <td>C148</td>\n",
              "      <td>C</td>\n",
              "    </tr>\n",
              "    <tr>\n",
              "      <th>890</th>\n",
              "      <td>891</td>\n",
              "      <td>1.0</td>\n",
              "      <td>0</td>\n",
              "      <td>3</td>\n",
              "      <td>Dooley, Mr. Patrick</td>\n",
              "      <td>male</td>\n",
              "      <td>32.0</td>\n",
              "      <td>0</td>\n",
              "      <td>0</td>\n",
              "      <td>370376</td>\n",
              "      <td>7.7500</td>\n",
              "      <td>NaN</td>\n",
              "      <td>Q</td>\n",
              "    </tr>\n",
              "  </tbody>\n",
              "</table>\n",
              "<p>891 rows × 13 columns</p>\n",
              "</div>\n",
              "      <button class=\"colab-df-convert\" onclick=\"convertToInteractive('df-ba9ee0d2-0d24-4c2d-b48a-48cfc8676f71')\"\n",
              "              title=\"Convert this dataframe to an interactive table.\"\n",
              "              style=\"display:none;\">\n",
              "        \n",
              "  <svg xmlns=\"http://www.w3.org/2000/svg\" height=\"24px\"viewBox=\"0 0 24 24\"\n",
              "       width=\"24px\">\n",
              "    <path d=\"M0 0h24v24H0V0z\" fill=\"none\"/>\n",
              "    <path d=\"M18.56 5.44l.94 2.06.94-2.06 2.06-.94-2.06-.94-.94-2.06-.94 2.06-2.06.94zm-11 1L8.5 8.5l.94-2.06 2.06-.94-2.06-.94L8.5 2.5l-.94 2.06-2.06.94zm10 10l.94 2.06.94-2.06 2.06-.94-2.06-.94-.94-2.06-.94 2.06-2.06.94z\"/><path d=\"M17.41 7.96l-1.37-1.37c-.4-.4-.92-.59-1.43-.59-.52 0-1.04.2-1.43.59L10.3 9.45l-7.72 7.72c-.78.78-.78 2.05 0 2.83L4 21.41c.39.39.9.59 1.41.59.51 0 1.02-.2 1.41-.59l7.78-7.78 2.81-2.81c.8-.78.8-2.07 0-2.86zM5.41 20L4 18.59l7.72-7.72 1.47 1.35L5.41 20z\"/>\n",
              "  </svg>\n",
              "      </button>\n",
              "      \n",
              "  <style>\n",
              "    .colab-df-container {\n",
              "      display:flex;\n",
              "      flex-wrap:wrap;\n",
              "      gap: 12px;\n",
              "    }\n",
              "\n",
              "    .colab-df-convert {\n",
              "      background-color: #E8F0FE;\n",
              "      border: none;\n",
              "      border-radius: 50%;\n",
              "      cursor: pointer;\n",
              "      display: none;\n",
              "      fill: #1967D2;\n",
              "      height: 32px;\n",
              "      padding: 0 0 0 0;\n",
              "      width: 32px;\n",
              "    }\n",
              "\n",
              "    .colab-df-convert:hover {\n",
              "      background-color: #E2EBFA;\n",
              "      box-shadow: 0px 1px 2px rgba(60, 64, 67, 0.3), 0px 1px 3px 1px rgba(60, 64, 67, 0.15);\n",
              "      fill: #174EA6;\n",
              "    }\n",
              "\n",
              "    [theme=dark] .colab-df-convert {\n",
              "      background-color: #3B4455;\n",
              "      fill: #D2E3FC;\n",
              "    }\n",
              "\n",
              "    [theme=dark] .colab-df-convert:hover {\n",
              "      background-color: #434B5C;\n",
              "      box-shadow: 0px 1px 3px 1px rgba(0, 0, 0, 0.15);\n",
              "      filter: drop-shadow(0px 1px 2px rgba(0, 0, 0, 0.3));\n",
              "      fill: #FFFFFF;\n",
              "    }\n",
              "  </style>\n",
              "\n",
              "      <script>\n",
              "        const buttonEl =\n",
              "          document.querySelector('#df-ba9ee0d2-0d24-4c2d-b48a-48cfc8676f71 button.colab-df-convert');\n",
              "        buttonEl.style.display =\n",
              "          google.colab.kernel.accessAllowed ? 'block' : 'none';\n",
              "\n",
              "        async function convertToInteractive(key) {\n",
              "          const element = document.querySelector('#df-ba9ee0d2-0d24-4c2d-b48a-48cfc8676f71');\n",
              "          const dataTable =\n",
              "            await google.colab.kernel.invokeFunction('convertToInteractive',\n",
              "                                                     [key], {});\n",
              "          if (!dataTable) return;\n",
              "\n",
              "          const docLinkHtml = 'Like what you see? Visit the ' +\n",
              "            '<a target=\"_blank\" href=https://colab.research.google.com/notebooks/data_table.ipynb>data table notebook</a>'\n",
              "            + ' to learn more about interactive tables.';\n",
              "          element.innerHTML = '';\n",
              "          dataTable['output_type'] = 'display_data';\n",
              "          await google.colab.output.renderOutput(dataTable, element);\n",
              "          const docLink = document.createElement('div');\n",
              "          docLink.innerHTML = docLinkHtml;\n",
              "          element.appendChild(docLink);\n",
              "        }\n",
              "      </script>\n",
              "    </div>\n",
              "  </div>\n",
              "  "
            ],
            "text/plain": [
              "     PassengerId  sexcode  Survived  ...     Fare Cabin Embarked\n",
              "0              1      1.0         0  ...   7.2500   NaN        S\n",
              "1              2      0.0         1  ...  71.2833   C85        C\n",
              "2              3      0.0         1  ...   7.9250   NaN        S\n",
              "3              4      0.0         1  ...  53.1000  C123        S\n",
              "4              5      1.0         0  ...   8.0500   NaN        S\n",
              "..           ...      ...       ...  ...      ...   ...      ...\n",
              "886          887      1.0         0  ...  13.0000   NaN        S\n",
              "887          888      0.0         1  ...  30.0000   B42        S\n",
              "888          889      0.0         0  ...  23.4500   NaN        S\n",
              "889          890      1.0         1  ...  30.0000  C148        C\n",
              "890          891      1.0         0  ...   7.7500   NaN        Q\n",
              "\n",
              "[891 rows x 13 columns]"
            ]
          },
          "metadata": {},
          "execution_count": 8
        }
      ],
      "source": [
        "#Transforming sex in numeric variable\n",
        "\n",
        "sexcode = df['Sex'].astype(\"category\").cat.codes\n",
        "\n",
        "df.insert(1,\"sexcode\", sexcode.astype(float))\n",
        "df"
      ]
    },
    {
      "cell_type": "code",
      "execution_count": 9,
      "metadata": {
        "id": "DuAQfLcKMFoa"
      },
      "outputs": [],
      "source": [
        "#Removing columns with no correlation\n",
        "df_mod = df.drop(columns=['Name','Sex','Ticket','Cabin','Embarked'])\n",
        "\n",
        "#Reordening columns\n",
        "new_cols=[\"PassengerId\",\"sexcode\",\"Pclass\",\"Age\",\"SibSp\",\"Parch\",\"Fare\",\"Survived\"]\n",
        "df_mod=df_mod[new_cols]"
      ]
    },
    {
      "cell_type": "code",
      "execution_count": null,
      "metadata": {
        "colab": {
          "base_uri": "https://localhost:8080/",
          "height": 279
        },
        "id": "Z2Px6GVP_8w1",
        "outputId": "40e96625-6c48-4086-8526-0e3c00e06143"
      },
      "outputs": [
        {
          "output_type": "execute_result",
          "data": {
            "text/plain": [
              "<matplotlib.axes._subplots.AxesSubplot at 0x7fbda6ac8c90>"
            ]
          },
          "metadata": {},
          "execution_count": 11
        },
        {
          "output_type": "display_data",
          "data": {
            "image/png": "[encoded data removed]",
            "text/plain": [
              "<Figure size 432x288 with 1 Axes>"
            ]
          },
          "metadata": {
            "needs_background": "light"
          }
        }
      ],
      "source": [
        "#Survived (1) and non survived (0) count\n",
        "df_mod['Survived'].value_counts().plot(kind = 'bar')"
      ]
    },
    {
      "cell_type": "code",
      "execution_count": null,
      "metadata": {
        "colab": {
          "base_uri": "https://localhost:8080/"
        },
        "id": "NTbbhWn7DHGv",
        "outputId": "d3f9f39c-dc14-4378-e6b4-7adf4f2b5de9"
      },
      "outputs": [
        {
          "output_type": "execute_result",
          "data": {
            "text/plain": [
              "0    549\n",
              "1    342\n",
              "Name: Survived, dtype: int64"
            ]
          },
          "metadata": {},
          "execution_count": 12
        }
      ],
      "source": [
        "df_mod['Survived'].value_counts()"
      ]
    },
    {
      "cell_type": "code",
      "source": [
        "#changing non-numeric data from 'age' column using InterativeImputer\n",
        "#A more sophisticated approach is to use the IterativeImputer class, which models each feature with missing values as a function of other features, and uses \n",
        "#that estimate for imputation. It does so in an iterated round-robin fashion: at each step, a feature column is designated as output y and the other feature \n",
        "#columns are treated as inputs X. A regressor is fit on (X, y) for known y. Then, the regressor is used to predict the missing values of y. This is done for \n",
        "#each feature in an iterative fashion, and then is repeated for max_iter imputation rounds. The results of the final imputation round are returned.\n",
        "import numpy as np\n",
        "from sklearn.experimental import enable_iterative_imputer\n",
        "from sklearn.impute import IterativeImputer\n",
        "from sklearn.linear_model import LinearRegression\n",
        "\n",
        "lr = LinearRegression()\n",
        "imp = IterativeImputer(estimator=lr,missing_values=np.nan, max_iter=10, verbose=2, imputation_order='roman',random_state=0)\n",
        "df_mod=imp.fit_transform(df_mod)"
      ],
      "metadata": {
        "colab": {
          "base_uri": "https://localhost:8080/"
        },
        "id": "VQOs0zhLzjdU",
        "outputId": "17428984-1013-4026-87b2-265a4133f6e1"
      },
      "execution_count": 10,
      "outputs": [
        {
          "output_type": "stream",
          "name": "stdout",
          "text": [
            "[IterativeImputer] Completing matrix with shape (891, 8)\n",
            "[IterativeImputer] Ending imputation round 1/10, elapsed time 0.03\n",
            "[IterativeImputer] Change: 35.23384980287067, scaled tolerance: 0.891 \n",
            "[IterativeImputer] Ending imputation round 2/10, elapsed time 0.04\n",
            "[IterativeImputer] Change: 0.0, scaled tolerance: 0.891 \n",
            "[IterativeImputer] Early stopping criterion reached.\n"
          ]
        }
      ]
    },
    {
      "cell_type": "code",
      "source": [
        "#checking non-nulls after interative imputer. Age nan were replaced by values\n",
        "df_final = pd.DataFrame(df_mod, columns =[\"PassengerId\",\"sexcode\",\"Pclass\",\"Age\",\"SibSp\",\"Parch\",\"Fare\",\"Survived\"])\n",
        "df_final.info()"
      ],
      "metadata": {
        "colab": {
          "base_uri": "https://localhost:8080/"
        },
        "id": "0OJYfQ6pzy6u",
        "outputId": "77b009ae-9d27-4872-85d8-281d6ad73ff5"
      },
      "execution_count": 11,
      "outputs": [
        {
          "output_type": "stream",
          "name": "stdout",
          "text": [
            "<class 'pandas.core.frame.DataFrame'>\n",
            "RangeIndex: 891 entries, 0 to 890\n",
            "Data columns (total 8 columns):\n",
            " #   Column       Non-Null Count  Dtype  \n",
            "---  ------       --------------  -----  \n",
            " 0   PassengerId  891 non-null    float64\n",
            " 1   sexcode      891 non-null    float64\n",
            " 2   Pclass       891 non-null    float64\n",
            " 3   Age          891 non-null    float64\n",
            " 4   SibSp        891 non-null    float64\n",
            " 5   Parch        891 non-null    float64\n",
            " 6   Fare         891 non-null    float64\n",
            " 7   Survived     891 non-null    float64\n",
            "dtypes: float64(8)\n",
            "memory usage: 55.8 KB\n"
          ]
        }
      ]
    },
    {
      "cell_type": "code",
      "execution_count": 14,
      "metadata": {
        "id": "GPvCnhabH6uz"
      },
      "outputs": [],
      "source": [
        "#Conver to numpy array in order to input in tensorflow\n",
        "nparray = df_final.to_numpy()"
      ]
    },
    {
      "cell_type": "code",
      "execution_count": 16,
      "metadata": {
        "id": "m8FEcse7H-eB",
        "colab": {
          "base_uri": "https://localhost:8080/"
        },
        "outputId": "2b65ea84-68dd-466e-a554-d6bf6ac3749d"
      },
      "outputs": [
        {
          "output_type": "stream",
          "name": "stdout",
          "text": [
            "Features =  (891, 6)\n",
            "Targets =  (891,)\n"
          ]
        }
      ],
      "source": [
        "features = (nparray[:,0:6]).astype(float)\n",
        "targets = (nparray[:,7]).astype(int)  ## bynary problem\n",
        "print(\"Features = \", features.shape)\n",
        "print(\"Targets = \", targets.shape)"
      ]
    },
    {
      "cell_type": "code",
      "source": [
        "#splitting in train and test\n",
        "X_train, X_val, y_train, y_val = train_test_split(features, targets, \n",
        "                                     test_size=0.25, random_state=0)\n",
        "print(\"Training:\", len(X_train))\n",
        "print(\"Validation:\", len(X_val))"
      ],
      "metadata": {
        "colab": {
          "base_uri": "https://localhost:8080/"
        },
        "id": "ImK4IEQUqR0Q",
        "outputId": "43f10677-2a61-4de2-a62b-26d61ef58d94"
      },
      "execution_count": 18,
      "outputs": [
        {
          "output_type": "stream",
          "name": "stdout",
          "text": [
            "Training: 668\n",
            "Validation: 223\n"
          ]
        }
      ]
    },
    {
      "cell_type": "code",
      "source": [
        "#checking train and test data\n",
        "X_train"
      ],
      "metadata": {
        "colab": {
          "base_uri": "https://localhost:8080/"
        },
        "id": "4KlME8ewqkGZ",
        "outputId": "9ffad6ad-179d-4443-8a11-806f27b5b80d"
      },
      "execution_count": 19,
      "outputs": [
        {
          "output_type": "execute_result",
          "data": {
            "text/plain": [
              "array([[106.        ,   1.        ,   3.        ,  28.        ,\n",
              "          0.        ,   0.        ],\n",
              "       [ 69.        ,   0.        ,   3.        ,  17.        ,\n",
              "          4.        ,   2.        ],\n",
              "       [254.        ,   1.        ,   3.        ,  30.        ,\n",
              "          1.        ,   0.        ],\n",
              "       ...,\n",
              "       [630.        ,   1.        ,   3.        ,  29.14643446,\n",
              "          0.        ,   0.        ],\n",
              "       [560.        ,   0.        ,   3.        ,  36.        ,\n",
              "          1.        ,   0.        ],\n",
              "       [685.        ,   1.        ,   2.        ,  60.        ,\n",
              "          1.        ,   1.        ]])"
            ]
          },
          "metadata": {},
          "execution_count": 19
        }
      ]
    },
    {
      "cell_type": "code",
      "source": [
        "#binaty response - did not survive (0) or survived (1)\n",
        "y_train"
      ],
      "metadata": {
        "colab": {
          "base_uri": "https://localhost:8080/"
        },
        "id": "rcYK5r0sqnMK",
        "outputId": "2bceffde-3469-48cb-cde9-baa9d6735874"
      },
      "execution_count": 20,
      "outputs": [
        {
          "output_type": "execute_result",
          "data": {
            "text/plain": [
              "array([0, 1, 0, 0, 1, 1, 0, 0, 1, 1, 0, 0, 0, 1, 1, 1, 0, 0, 1, 0, 0, 1,\n",
              "       1, 0, 0, 0, 1, 0, 0, 0, 0, 0, 0, 1, 1, 1, 0, 0, 0, 0, 0, 0, 0, 1,\n",
              "       0, 1, 1, 0, 0, 0, 1, 0, 0, 0, 1, 1, 0, 0, 1, 0, 1, 0, 0, 0, 0, 0,\n",
              "       0, 1, 0, 1, 1, 1, 0, 0, 0, 1, 0, 1, 0, 0, 1, 1, 1, 0, 0, 1, 0, 1,\n",
              "       0, 0, 0, 0, 1, 0, 1, 0, 1, 0, 1, 1, 1, 0, 0, 0, 0, 0, 0, 1, 0, 1,\n",
              "       0, 0, 0, 1, 0, 1, 0, 0, 0, 1, 0, 1, 1, 1, 0, 0, 0, 1, 1, 0, 0, 1,\n",
              "       0, 1, 0, 0, 0, 0, 1, 1, 1, 0, 1, 0, 1, 0, 1, 0, 0, 1, 0, 0, 0, 0,\n",
              "       0, 1, 0, 1, 0, 1, 0, 0, 0, 0, 0, 1, 0, 0, 1, 0, 0, 0, 1, 0, 0, 1,\n",
              "       0, 0, 1, 0, 1, 0, 0, 0, 0, 1, 0, 0, 0, 1, 0, 0, 0, 0, 0, 0, 0, 0,\n",
              "       0, 1, 1, 0, 0, 0, 1, 0, 0, 0, 0, 1, 1, 0, 1, 0, 1, 0, 0, 0, 1, 1,\n",
              "       0, 0, 0, 0, 0, 0, 1, 0, 0, 1, 1, 0, 0, 0, 1, 0, 1, 0, 0, 1, 0, 0,\n",
              "       1, 1, 0, 0, 1, 1, 1, 0, 1, 0, 0, 1, 0, 0, 0, 0, 0, 1, 0, 0, 0, 1,\n",
              "       0, 0, 1, 1, 0, 0, 0, 0, 0, 0, 1, 0, 0, 0, 0, 0, 1, 0, 0, 0, 1, 0,\n",
              "       1, 0, 0, 1, 0, 1, 0, 1, 0, 0, 0, 1, 1, 1, 1, 0, 0, 0, 0, 0, 0, 0,\n",
              "       1, 1, 1, 0, 0, 0, 1, 0, 1, 1, 1, 0, 0, 0, 0, 1, 1, 0, 0, 1, 0, 1,\n",
              "       1, 0, 0, 0, 0, 1, 1, 0, 1, 0, 1, 0, 1, 0, 0, 0, 1, 0, 0, 0, 1, 0,\n",
              "       0, 0, 0, 0, 1, 1, 0, 0, 0, 0, 1, 1, 0, 0, 0, 1, 0, 0, 0, 1, 1, 0,\n",
              "       0, 1, 0, 0, 0, 0, 0, 0, 1, 1, 1, 1, 1, 1, 1, 1, 0, 0, 0, 1, 1, 0,\n",
              "       0, 1, 1, 0, 0, 0, 0, 0, 0, 0, 1, 1, 1, 0, 0, 0, 0, 1, 1, 0, 0, 0,\n",
              "       1, 0, 1, 0, 1, 0, 1, 1, 1, 1, 0, 0, 1, 0, 1, 0, 0, 1, 1, 1, 0, 0,\n",
              "       0, 1, 0, 0, 1, 0, 0, 0, 0, 0, 0, 0, 0, 0, 0, 0, 0, 0, 0, 0, 1, 1,\n",
              "       0, 0, 0, 1, 1, 0, 0, 1, 1, 1, 0, 0, 0, 1, 0, 0, 1, 0, 1, 0, 1, 0,\n",
              "       0, 1, 0, 0, 0, 0, 0, 1, 0, 0, 0, 0, 1, 1, 1, 0, 0, 1, 1, 1, 0, 1,\n",
              "       1, 0, 0, 0, 0, 1, 0, 0, 1, 1, 0, 0, 0, 1, 1, 0, 1, 0, 1, 1, 1, 0,\n",
              "       1, 1, 1, 0, 0, 0, 1, 0, 0, 0, 1, 0, 0, 1, 0, 0, 0, 1, 0, 0, 1, 1,\n",
              "       1, 0, 1, 1, 0, 1, 0, 1, 1, 0, 0, 0, 0, 0, 0, 1, 1, 0, 0, 0, 0, 0,\n",
              "       1, 0, 0, 0, 1, 1, 1, 0, 0, 1, 0, 0, 0, 0, 0, 1, 1, 1, 0, 1, 0, 0,\n",
              "       1, 0, 0, 0, 0, 0, 0, 0, 0, 0, 1, 1, 1, 1, 1, 1, 1, 0, 1, 0, 1, 0,\n",
              "       0, 1, 0, 0, 1, 0, 1, 0, 0, 0, 1, 1, 0, 0, 0, 1, 1, 0, 1, 1, 0, 1,\n",
              "       0, 0, 1, 1, 1, 1, 0, 0, 0, 1, 0, 0, 0, 1, 1, 0, 1, 1, 1, 0, 0, 1,\n",
              "       1, 1, 1, 1, 1, 0, 1, 0])"
            ]
          },
          "metadata": {},
          "execution_count": 20
        }
      ]
    },
    {
      "cell_type": "code",
      "source": [
        "#Shallow MLP with 1 layer\n",
        "model1 = keras.Sequential(\n",
        " [\n",
        "   keras.layers.Dense(8, activation=\"relu\", input_shape=(X_train.shape[-1],)),\n",
        "   keras.layers.Dense(1, activation=\"sigmoid\"),\n",
        " ]\n",
        ")\n",
        "\n",
        "model1.summary()"
      ],
      "metadata": {
        "colab": {
          "base_uri": "https://localhost:8080/"
        },
        "id": "x8ryMQPJqq7F",
        "outputId": "e97cfc30-dfdd-4438-c468-835b1be38bce"
      },
      "execution_count": 21,
      "outputs": [
        {
          "output_type": "stream",
          "name": "stdout",
          "text": [
            "Model: \"sequential\"\n",
            "_________________________________________________________________\n",
            " Layer (type)                Output Shape              Param #   \n",
            "=================================================================\n",
            " dense (Dense)               (None, 8)                 56        \n",
            "                                                                 \n",
            " dense_1 (Dense)             (None, 1)                 9         \n",
            "                                                                 \n",
            "=================================================================\n",
            "Total params: 65\n",
            "Trainable params: 65\n",
            "Non-trainable params: 0\n",
            "_________________________________________________________________\n"
          ]
        }
      ]
    },
    {
      "cell_type": "code",
      "source": [
        "metrics = [\n",
        "    keras.metrics.FalseNegatives(name=\"fn\"),\n",
        "    keras.metrics.FalsePositives(name=\"fp\"),\n",
        "    keras.metrics.TrueNegatives(name=\"tn\"),\n",
        "    keras.metrics.TruePositives(name=\"tp\"),\n",
        "    keras.metrics.Precision(name=\"precision\"),\n",
        "    keras.metrics.Recall(name=\"recall\"),\n",
        "]\n",
        "\n",
        "# compilamos o modelo utilizando:\n",
        "#- um otimizador SGD\n",
        "#- a função de perda entropia cruzada\n",
        "#- as métricas acima\n",
        "model1.compile(\n",
        "    optimizer=keras.optimizers.SGD(), loss=\"binary_crossentropy\", metrics=metrics\n",
        ")"
      ],
      "metadata": {
        "id": "iv9kXEr8rCXM"
      },
      "execution_count": 22,
      "outputs": []
    },
    {
      "cell_type": "code",
      "source": [
        "batch_size = 10\n",
        "epochs = 30"
      ],
      "metadata": {
        "id": "YOyTl6ZsrToz"
      },
      "execution_count": 23,
      "outputs": []
    },
    {
      "cell_type": "code",
      "source": [
        "len(X_train)/batch_size"
      ],
      "metadata": {
        "colab": {
          "base_uri": "https://localhost:8080/"
        },
        "id": "GXs-R_4nrWIW",
        "outputId": "fed7acf9-b2bf-4d1b-abef-8f3205e4b04f"
      },
      "execution_count": 24,
      "outputs": [
        {
          "output_type": "execute_result",
          "data": {
            "text/plain": [
              "66.8"
            ]
          },
          "metadata": {},
          "execution_count": 24
        }
      ]
    },
    {
      "cell_type": "code",
      "source": [
        "history1 = model1.fit(\n",
        "    X_train,\n",
        "    y_train,\n",
        "    batch_size=batch_size,\n",
        "    epochs=epochs,\n",
        "    verbose=1,  ## mostra as iteracoes\n",
        "    validation_data=(X_val, y_val),\n",
        ")"
      ],
      "metadata": {
        "colab": {
          "base_uri": "https://localhost:8080/"
        },
        "id": "1__JdSuIrZlu",
        "outputId": "38516e03-84e3-4d98-c09f-33656fe13d7e"
      },
      "execution_count": 25,
      "outputs": [
        {
          "output_type": "stream",
          "name": "stdout",
          "text": [
            "Epoch 1/30\n",
            "67/67 [==============================] - 3s 16ms/step - loss: 5.9687 - fn: 251.0000 - fp: 6.0000 - tn: 404.0000 - tp: 7.0000 - precision: 0.5385 - recall: 0.0271 - val_loss: 0.6947 - val_fn: 82.0000 - val_fp: 1.0000 - val_tn: 138.0000 - val_tp: 2.0000 - val_precision: 0.6667 - val_recall: 0.0238\n",
            "Epoch 2/30\n",
            "67/67 [==============================] - 0s 3ms/step - loss: 0.7132 - fn: 254.0000 - fp: 3.0000 - tn: 407.0000 - tp: 4.0000 - precision: 0.5714 - recall: 0.0155 - val_loss: 0.6837 - val_fn: 83.0000 - val_fp: 1.0000 - val_tn: 138.0000 - val_tp: 1.0000 - val_precision: 0.5000 - val_recall: 0.0119\n",
            "Epoch 3/30\n",
            "67/67 [==============================] - 0s 3ms/step - loss: 0.6980 - fn: 254.0000 - fp: 4.0000 - tn: 406.0000 - tp: 4.0000 - precision: 0.5000 - recall: 0.0155 - val_loss: 0.6824 - val_fn: 83.0000 - val_fp: 3.0000 - val_tn: 136.0000 - val_tp: 1.0000 - val_precision: 0.2500 - val_recall: 0.0119\n",
            "Epoch 4/30\n",
            "67/67 [==============================] - 0s 3ms/step - loss: 0.6987 - fn: 254.0000 - fp: 7.0000 - tn: 403.0000 - tp: 4.0000 - precision: 0.3636 - recall: 0.0155 - val_loss: 0.6780 - val_fn: 83.0000 - val_fp: 2.0000 - val_tn: 137.0000 - val_tp: 1.0000 - val_precision: 0.3333 - val_recall: 0.0119\n",
            "Epoch 5/30\n",
            "67/67 [==============================] - 0s 3ms/step - loss: 0.6891 - fn: 255.0000 - fp: 5.0000 - tn: 405.0000 - tp: 3.0000 - precision: 0.3750 - recall: 0.0116 - val_loss: 0.6835 - val_fn: 83.0000 - val_fp: 4.0000 - val_tn: 135.0000 - val_tp: 1.0000 - val_precision: 0.2000 - val_recall: 0.0119\n",
            "Epoch 6/30\n",
            "67/67 [==============================] - 0s 3ms/step - loss: 0.6867 - fn: 253.0000 - fp: 5.0000 - tn: 405.0000 - tp: 5.0000 - precision: 0.5000 - recall: 0.0194 - val_loss: 0.6869 - val_fn: 82.0000 - val_fp: 4.0000 - val_tn: 135.0000 - val_tp: 2.0000 - val_precision: 0.3333 - val_recall: 0.0238\n",
            "Epoch 7/30\n",
            "67/67 [==============================] - 0s 3ms/step - loss: 0.6865 - fn: 256.0000 - fp: 5.0000 - tn: 405.0000 - tp: 2.0000 - precision: 0.2857 - recall: 0.0078 - val_loss: 0.6732 - val_fn: 83.0000 - val_fp: 3.0000 - val_tn: 136.0000 - val_tp: 1.0000 - val_precision: 0.2500 - val_recall: 0.0119\n",
            "Epoch 8/30\n",
            "67/67 [==============================] - 0s 3ms/step - loss: 0.6736 - fn: 253.0000 - fp: 5.0000 - tn: 405.0000 - tp: 5.0000 - precision: 0.5000 - recall: 0.0194 - val_loss: 0.6822 - val_fn: 84.0000 - val_fp: 0.0000e+00 - val_tn: 139.0000 - val_tp: 0.0000e+00 - val_precision: 0.0000e+00 - val_recall: 0.0000e+00\n",
            "Epoch 9/30\n",
            "67/67 [==============================] - 0s 3ms/step - loss: 0.6804 - fn: 255.0000 - fp: 2.0000 - tn: 408.0000 - tp: 3.0000 - precision: 0.6000 - recall: 0.0116 - val_loss: 0.6750 - val_fn: 83.0000 - val_fp: 4.0000 - val_tn: 135.0000 - val_tp: 1.0000 - val_precision: 0.2000 - val_recall: 0.0119\n",
            "Epoch 10/30\n",
            "67/67 [==============================] - 0s 2ms/step - loss: 0.6713 - fn: 253.0000 - fp: 5.0000 - tn: 405.0000 - tp: 5.0000 - precision: 0.5000 - recall: 0.0194 - val_loss: 0.6701 - val_fn: 83.0000 - val_fp: 3.0000 - val_tn: 136.0000 - val_tp: 1.0000 - val_precision: 0.2500 - val_recall: 0.0119\n",
            "Epoch 11/30\n",
            "67/67 [==============================] - 0s 2ms/step - loss: 0.6793 - fn: 253.0000 - fp: 4.0000 - tn: 406.0000 - tp: 5.0000 - precision: 0.5556 - recall: 0.0194 - val_loss: 0.6701 - val_fn: 83.0000 - val_fp: 3.0000 - val_tn: 136.0000 - val_tp: 1.0000 - val_precision: 0.2500 - val_recall: 0.0119\n",
            "Epoch 12/30\n",
            "67/67 [==============================] - 0s 3ms/step - loss: 0.6738 - fn: 252.0000 - fp: 4.0000 - tn: 406.0000 - tp: 6.0000 - precision: 0.6000 - recall: 0.0233 - val_loss: 0.6716 - val_fn: 84.0000 - val_fp: 0.0000e+00 - val_tn: 139.0000 - val_tp: 0.0000e+00 - val_precision: 0.0000e+00 - val_recall: 0.0000e+00\n",
            "Epoch 13/30\n",
            "67/67 [==============================] - 0s 3ms/step - loss: 0.6709 - fn: 254.0000 - fp: 4.0000 - tn: 406.0000 - tp: 4.0000 - precision: 0.5000 - recall: 0.0155 - val_loss: 0.6725 - val_fn: 82.0000 - val_fp: 4.0000 - val_tn: 135.0000 - val_tp: 2.0000 - val_precision: 0.3333 - val_recall: 0.0238\n",
            "Epoch 14/30\n",
            "67/67 [==============================] - 0s 3ms/step - loss: 0.6729 - fn: 253.0000 - fp: 2.0000 - tn: 408.0000 - tp: 5.0000 - precision: 0.7143 - recall: 0.0194 - val_loss: 0.6716 - val_fn: 83.0000 - val_fp: 4.0000 - val_tn: 135.0000 - val_tp: 1.0000 - val_precision: 0.2000 - val_recall: 0.0119\n",
            "Epoch 15/30\n",
            "67/67 [==============================] - 0s 3ms/step - loss: 0.6735 - fn: 253.0000 - fp: 5.0000 - tn: 405.0000 - tp: 5.0000 - precision: 0.5000 - recall: 0.0194 - val_loss: 0.6690 - val_fn: 83.0000 - val_fp: 4.0000 - val_tn: 135.0000 - val_tp: 1.0000 - val_precision: 0.2000 - val_recall: 0.0119\n",
            "Epoch 16/30\n",
            "67/67 [==============================] - 0s 3ms/step - loss: 0.6728 - fn: 254.0000 - fp: 5.0000 - tn: 405.0000 - tp: 4.0000 - precision: 0.4444 - recall: 0.0155 - val_loss: 0.6716 - val_fn: 83.0000 - val_fp: 4.0000 - val_tn: 135.0000 - val_tp: 1.0000 - val_precision: 0.2000 - val_recall: 0.0119\n",
            "Epoch 17/30\n",
            "67/67 [==============================] - 0s 3ms/step - loss: 0.6679 - fn: 251.0000 - fp: 5.0000 - tn: 405.0000 - tp: 7.0000 - precision: 0.5833 - recall: 0.0271 - val_loss: 0.6772 - val_fn: 84.0000 - val_fp: 0.0000e+00 - val_tn: 139.0000 - val_tp: 0.0000e+00 - val_precision: 0.0000e+00 - val_recall: 0.0000e+00\n",
            "Epoch 18/30\n",
            "67/67 [==============================] - 0s 3ms/step - loss: 0.6729 - fn: 256.0000 - fp: 4.0000 - tn: 406.0000 - tp: 2.0000 - precision: 0.3333 - recall: 0.0078 - val_loss: 0.6745 - val_fn: 82.0000 - val_fp: 4.0000 - val_tn: 135.0000 - val_tp: 2.0000 - val_precision: 0.3333 - val_recall: 0.0238\n",
            "Epoch 19/30\n",
            "67/67 [==============================] - 0s 3ms/step - loss: 0.6681 - fn: 252.0000 - fp: 4.0000 - tn: 406.0000 - tp: 6.0000 - precision: 0.6000 - recall: 0.0233 - val_loss: 0.6690 - val_fn: 82.0000 - val_fp: 4.0000 - val_tn: 135.0000 - val_tp: 2.0000 - val_precision: 0.3333 - val_recall: 0.0238\n",
            "Epoch 20/30\n",
            "67/67 [==============================] - 0s 3ms/step - loss: 0.6688 - fn: 252.0000 - fp: 4.0000 - tn: 406.0000 - tp: 6.0000 - precision: 0.6000 - recall: 0.0233 - val_loss: 0.6717 - val_fn: 84.0000 - val_fp: 1.0000 - val_tn: 138.0000 - val_tp: 0.0000e+00 - val_precision: 0.0000e+00 - val_recall: 0.0000e+00\n",
            "Epoch 21/30\n",
            "67/67 [==============================] - 0s 3ms/step - loss: 0.6742 - fn: 252.0000 - fp: 4.0000 - tn: 406.0000 - tp: 6.0000 - precision: 0.6000 - recall: 0.0233 - val_loss: 0.6669 - val_fn: 84.0000 - val_fp: 0.0000e+00 - val_tn: 139.0000 - val_tp: 0.0000e+00 - val_precision: 0.0000e+00 - val_recall: 0.0000e+00\n",
            "Epoch 22/30\n",
            "67/67 [==============================] - 0s 3ms/step - loss: 0.6706 - fn: 253.0000 - fp: 4.0000 - tn: 406.0000 - tp: 5.0000 - precision: 0.5556 - recall: 0.0194 - val_loss: 0.6682 - val_fn: 84.0000 - val_fp: 0.0000e+00 - val_tn: 139.0000 - val_tp: 0.0000e+00 - val_precision: 0.0000e+00 - val_recall: 0.0000e+00\n",
            "Epoch 23/30\n",
            "67/67 [==============================] - 0s 3ms/step - loss: 0.6686 - fn: 252.0000 - fp: 4.0000 - tn: 406.0000 - tp: 6.0000 - precision: 0.6000 - recall: 0.0233 - val_loss: 0.6645 - val_fn: 83.0000 - val_fp: 1.0000 - val_tn: 138.0000 - val_tp: 1.0000 - val_precision: 0.5000 - val_recall: 0.0119\n",
            "Epoch 24/30\n",
            "67/67 [==============================] - 0s 3ms/step - loss: 0.6659 - fn: 251.0000 - fp: 3.0000 - tn: 407.0000 - tp: 7.0000 - precision: 0.7000 - recall: 0.0271 - val_loss: 0.6649 - val_fn: 83.0000 - val_fp: 2.0000 - val_tn: 137.0000 - val_tp: 1.0000 - val_precision: 0.3333 - val_recall: 0.0119\n",
            "Epoch 25/30\n",
            "67/67 [==============================] - 0s 3ms/step - loss: 0.6718 - fn: 254.0000 - fp: 4.0000 - tn: 406.0000 - tp: 4.0000 - precision: 0.5000 - recall: 0.0155 - val_loss: 0.6657 - val_fn: 83.0000 - val_fp: 3.0000 - val_tn: 136.0000 - val_tp: 1.0000 - val_precision: 0.2500 - val_recall: 0.0119\n",
            "Epoch 26/30\n",
            "67/67 [==============================] - 0s 3ms/step - loss: 0.6687 - fn: 252.0000 - fp: 6.0000 - tn: 404.0000 - tp: 6.0000 - precision: 0.5000 - recall: 0.0233 - val_loss: 0.6763 - val_fn: 84.0000 - val_fp: 0.0000e+00 - val_tn: 139.0000 - val_tp: 0.0000e+00 - val_precision: 0.0000e+00 - val_recall: 0.0000e+00\n",
            "Epoch 27/30\n",
            "67/67 [==============================] - 0s 3ms/step - loss: 0.6742 - fn: 254.0000 - fp: 4.0000 - tn: 406.0000 - tp: 4.0000 - precision: 0.5000 - recall: 0.0155 - val_loss: 0.6666 - val_fn: 84.0000 - val_fp: 0.0000e+00 - val_tn: 139.0000 - val_tp: 0.0000e+00 - val_precision: 0.0000e+00 - val_recall: 0.0000e+00\n",
            "Epoch 28/30\n",
            "67/67 [==============================] - 0s 3ms/step - loss: 0.6676 - fn: 253.0000 - fp: 5.0000 - tn: 405.0000 - tp: 5.0000 - precision: 0.5000 - recall: 0.0194 - val_loss: 0.6701 - val_fn: 84.0000 - val_fp: 0.0000e+00 - val_tn: 139.0000 - val_tp: 0.0000e+00 - val_precision: 0.0000e+00 - val_recall: 0.0000e+00\n",
            "Epoch 29/30\n",
            "67/67 [==============================] - 0s 2ms/step - loss: 0.6718 - fn: 255.0000 - fp: 3.0000 - tn: 407.0000 - tp: 3.0000 - precision: 0.5000 - recall: 0.0116 - val_loss: 0.6676 - val_fn: 82.0000 - val_fp: 4.0000 - val_tn: 135.0000 - val_tp: 2.0000 - val_precision: 0.3333 - val_recall: 0.0238\n",
            "Epoch 30/30\n",
            "67/67 [==============================] - 0s 3ms/step - loss: 0.6688 - fn: 250.0000 - fp: 5.0000 - tn: 405.0000 - tp: 8.0000 - precision: 0.6154 - recall: 0.0310 - val_loss: 0.6730 - val_fn: 84.0000 - val_fp: 0.0000e+00 - val_tn: 139.0000 - val_tp: 0.0000e+00 - val_precision: 0.0000e+00 - val_recall: 0.0000e+00\n"
          ]
        }
      ]
    },
    {
      "cell_type": "code",
      "source": [
        "plt.plot(history1.history[\"loss\"])\n",
        "plt.plot(history1.history[\"val_loss\"])\n",
        "plt.title(\"model loss\")\n",
        "plt.ylabel(\"loss\")\n",
        "plt.xlabel(\"epoch\")\n",
        "plt.legend([\"train\", \"test\"], loc=\"upper left\")\n",
        "plt.show()"
      ],
      "metadata": {
        "colab": {
          "base_uri": "https://localhost:8080/",
          "height": 295
        },
        "id": "e2ey89vTrpAl",
        "outputId": "531dac9c-1b41-4b54-fcd6-4f30c3dc515e"
      },
      "execution_count": 26,
      "outputs": [
        {
          "output_type": "display_data",
          "data": {
            "image/png": "[encoded data removed]",
            "text/plain": [
              "<Figure size 432x288 with 1 Axes>"
            ]
          },
          "metadata": {
            "needs_background": "light"
          }
        }
      ]
    },
    {
      "cell_type": "code",
      "source": [
        "# Computando as métricas para a validacao\n",
        "score = model1.evaluate(X_val, y_val, verbose=0)"
      ],
      "metadata": {
        "id": "HG5pjKgKrvtj"
      },
      "execution_count": 27,
      "outputs": []
    },
    {
      "cell_type": "code",
      "source": [
        "print(\"Perda (entropia cruzada): \", score[0])\n",
        "print(\"Falsos negativos: \", score[1])\n",
        "print(\"Falsos positivos: \", score[2])\n",
        "print(\"Verdadeiros negativos: \", score[3])\n",
        "print(\"Verdadeiros positivos: \", score[4])\n",
        "print(\"Precisao: \", score[5])\n",
        "print(\"Revocacao: \", score[6])"
      ],
      "metadata": {
        "colab": {
          "base_uri": "https://localhost:8080/"
        },
        "id": "xlE0lrFDrx6l",
        "outputId": "d56ed054-50d5-4ece-ca9f-799dee86f790"
      },
      "execution_count": 28,
      "outputs": [
        {
          "output_type": "stream",
          "name": "stdout",
          "text": [
            "Perda (entropia cruzada):  0.6730109453201294\n",
            "Falsos negativos:  84.0\n",
            "Falsos positivos:  0.0\n",
            "Verdadeiros negativos:  139.0\n",
            "Verdadeiros positivos:  0.0\n",
            "Precisao:  0.0\n",
            "Revocacao:  0.0\n"
          ]
        }
      ]
    },
    {
      "cell_type": "markdown",
      "source": [
        "The model classified everybody as a negative (139 true but 84 false). For NN, it is recommended to normalize or standardize data that could present a very different scaling - in this example we can notice that 'age' and 'fare' have very different magnitudes, and that could lead to a wrong classification by the NN."
      ],
      "metadata": {
        "id": "0TisjhM3r4ru"
      }
    },
    {
      "cell_type": "code",
      "source": [
        "#normalizing\n",
        "\n",
        "mean = np.mean(X_train, axis=0)\n",
        "std = np.std(X_train, axis=0)\n",
        "\n",
        "X_train -= mean\n",
        "X_val -= mean\n",
        "\n",
        "X_train /= std\n",
        "X_val /= std"
      ],
      "metadata": {
        "id": "83Jws7rm80Ol"
      },
      "execution_count": 29,
      "outputs": []
    },
    {
      "cell_type": "code",
      "source": [
        "counts_train = np.bincount(y_train)\n",
        "# vamos ponderar o total de cada classe e formar um peso\n",
        "peso_0 = round(1.0 - (counts_train[0]/len(X_train)), 2)\n",
        "peso_1 = round(1.0 - (counts_train[1]/len(X_train)), 2)\n",
        "print(\"pesos: \", peso_0, peso_1)\n",
        "\n",
        "# ponderacao das classes\n",
        "class_weight = {0: peso_0, 1: peso_1}"
      ],
      "metadata": {
        "colab": {
          "base_uri": "https://localhost:8080/"
        },
        "id": "sWAsMGJy9Akh",
        "outputId": "32ffa58b-ff0b-4256-ed7a-08869acc24c3"
      },
      "execution_count": 33,
      "outputs": [
        {
          "output_type": "stream",
          "name": "stdout",
          "text": [
            "pesos:  0.39 0.61\n"
          ]
        }
      ]
    },
    {
      "cell_type": "code",
      "source": [
        "#improved Shallow MLP with 1 layer\n",
        "model2 = keras.Sequential(\n",
        " [\n",
        "   keras.layers.Dense(8, activation=\"relu\", input_shape=(X_train.shape[-1],)),\n",
        "   keras.layers.Dense(1, activation=\"sigmoid\"),\n",
        " ]\n",
        ")\n",
        "\n",
        "model2.summary()"
      ],
      "metadata": {
        "colab": {
          "base_uri": "https://localhost:8080/"
        },
        "id": "nYXcO8KP9gEV",
        "outputId": "8e7cbc67-20ad-4e5e-c9d5-f46f26dde177"
      },
      "execution_count": 34,
      "outputs": [
        {
          "output_type": "stream",
          "name": "stdout",
          "text": [
            "Model: \"sequential_1\"\n",
            "_________________________________________________________________\n",
            " Layer (type)                Output Shape              Param #   \n",
            "=================================================================\n",
            " dense_2 (Dense)             (None, 8)                 56        \n",
            "                                                                 \n",
            " dense_3 (Dense)             (None, 1)                 9         \n",
            "                                                                 \n",
            "=================================================================\n",
            "Total params: 65\n",
            "Trainable params: 65\n",
            "Non-trainable params: 0\n",
            "_________________________________________________________________\n"
          ]
        }
      ]
    },
    {
      "cell_type": "code",
      "source": [
        "model2.compile(\n",
        "    optimizer=keras.optimizers.SGD(), loss=\"binary_crossentropy\", metrics=metrics\n",
        ")\n",
        "history2 = model2.fit(\n",
        "    X_train,\n",
        "    y_train,\n",
        "    batch_size=batch_size,\n",
        "    epochs=epochs,\n",
        "    verbose=1,\n",
        "    validation_data=(X_val, y_val),\n",
        "    class_weight=class_weight,\n",
        ")"
      ],
      "metadata": {
        "colab": {
          "base_uri": "https://localhost:8080/"
        },
        "id": "JQcmyX4U9xqo",
        "outputId": "fcdcc483-eea0-4c6d-c7f6-f159db57176e"
      },
      "execution_count": 36,
      "outputs": [
        {
          "output_type": "stream",
          "name": "stdout",
          "text": [
            "Epoch 1/30\n",
            "67/67 [==============================] - 2s 14ms/step - loss: 0.3453 - fn: 236.0000 - fp: 150.0000 - tn: 399.0000 - tp: 106.0000 - precision: 0.4141 - recall: 0.3099 - val_loss: 0.6969 - val_fn: 45.0000 - val_fp: 58.0000 - val_tn: 81.0000 - val_tp: 39.0000 - val_precision: 0.4021 - val_recall: 0.4643\n",
            "Epoch 2/30\n",
            "67/67 [==============================] - 0s 3ms/step - loss: 0.3298 - fn: 126.0000 - fp: 147.0000 - tn: 263.0000 - tp: 132.0000 - precision: 0.4731 - recall: 0.5116 - val_loss: 0.6745 - val_fn: 35.0000 - val_fp: 56.0000 - val_tn: 83.0000 - val_tp: 49.0000 - val_precision: 0.4667 - val_recall: 0.5833\n",
            "Epoch 3/30\n",
            "67/67 [==============================] - 0s 3ms/step - loss: 0.3176 - fn: 110.0000 - fp: 141.0000 - tn: 269.0000 - tp: 148.0000 - precision: 0.5121 - recall: 0.5736 - val_loss: 0.6564 - val_fn: 31.0000 - val_fp: 53.0000 - val_tn: 86.0000 - val_tp: 53.0000 - val_precision: 0.5000 - val_recall: 0.6310\n",
            "Epoch 4/30\n",
            "67/67 [==============================] - 0s 3ms/step - loss: 0.3078 - fn: 104.0000 - fp: 138.0000 - tn: 272.0000 - tp: 154.0000 - precision: 0.5274 - recall: 0.5969 - val_loss: 0.6410 - val_fn: 30.0000 - val_fp: 51.0000 - val_tn: 88.0000 - val_tp: 54.0000 - val_precision: 0.5143 - val_recall: 0.6429\n",
            "Epoch 5/30\n",
            "67/67 [==============================] - 0s 3ms/step - loss: 0.2994 - fn: 101.0000 - fp: 133.0000 - tn: 277.0000 - tp: 157.0000 - precision: 0.5414 - recall: 0.6085 - val_loss: 0.6277 - val_fn: 27.0000 - val_fp: 49.0000 - val_tn: 90.0000 - val_tp: 57.0000 - val_precision: 0.5377 - val_recall: 0.6786\n",
            "Epoch 6/30\n",
            "67/67 [==============================] - 0s 3ms/step - loss: 0.2920 - fn: 101.0000 - fp: 124.0000 - tn: 286.0000 - tp: 157.0000 - precision: 0.5587 - recall: 0.6085 - val_loss: 0.6159 - val_fn: 25.0000 - val_fp: 45.0000 - val_tn: 94.0000 - val_tp: 59.0000 - val_precision: 0.5673 - val_recall: 0.7024\n",
            "Epoch 7/30\n",
            "67/67 [==============================] - 0s 3ms/step - loss: 0.2857 - fn: 96.0000 - fp: 115.0000 - tn: 295.0000 - tp: 162.0000 - precision: 0.5848 - recall: 0.6279 - val_loss: 0.6053 - val_fn: 25.0000 - val_fp: 39.0000 - val_tn: 100.0000 - val_tp: 59.0000 - val_precision: 0.6020 - val_recall: 0.7024\n",
            "Epoch 8/30\n",
            "67/67 [==============================] - 0s 3ms/step - loss: 0.2800 - fn: 94.0000 - fp: 110.0000 - tn: 300.0000 - tp: 164.0000 - precision: 0.5985 - recall: 0.6357 - val_loss: 0.5951 - val_fn: 23.0000 - val_fp: 37.0000 - val_tn: 102.0000 - val_tp: 61.0000 - val_precision: 0.6224 - val_recall: 0.7262\n",
            "Epoch 9/30\n",
            "67/67 [==============================] - 0s 3ms/step - loss: 0.2750 - fn: 90.0000 - fp: 100.0000 - tn: 310.0000 - tp: 168.0000 - precision: 0.6269 - recall: 0.6512 - val_loss: 0.5861 - val_fn: 23.0000 - val_fp: 33.0000 - val_tn: 106.0000 - val_tp: 61.0000 - val_precision: 0.6489 - val_recall: 0.7262\n",
            "Epoch 10/30\n",
            "67/67 [==============================] - 0s 3ms/step - loss: 0.2705 - fn: 84.0000 - fp: 93.0000 - tn: 317.0000 - tp: 174.0000 - precision: 0.6517 - recall: 0.6744 - val_loss: 0.5778 - val_fn: 23.0000 - val_fp: 31.0000 - val_tn: 108.0000 - val_tp: 61.0000 - val_precision: 0.6630 - val_recall: 0.7262\n",
            "Epoch 11/30\n",
            "67/67 [==============================] - 0s 3ms/step - loss: 0.2665 - fn: 83.0000 - fp: 79.0000 - tn: 331.0000 - tp: 175.0000 - precision: 0.6890 - recall: 0.6783 - val_loss: 0.5702 - val_fn: 24.0000 - val_fp: 31.0000 - val_tn: 108.0000 - val_tp: 60.0000 - val_precision: 0.6593 - val_recall: 0.7143\n",
            "Epoch 12/30\n",
            "67/67 [==============================] - 0s 3ms/step - loss: 0.2628 - fn: 83.0000 - fp: 72.0000 - tn: 338.0000 - tp: 175.0000 - precision: 0.7085 - recall: 0.6783 - val_loss: 0.5630 - val_fn: 24.0000 - val_fp: 28.0000 - val_tn: 111.0000 - val_tp: 60.0000 - val_precision: 0.6818 - val_recall: 0.7143\n",
            "Epoch 13/30\n",
            "67/67 [==============================] - 0s 3ms/step - loss: 0.2594 - fn: 84.0000 - fp: 63.0000 - tn: 347.0000 - tp: 174.0000 - precision: 0.7342 - recall: 0.6744 - val_loss: 0.5563 - val_fn: 24.0000 - val_fp: 28.0000 - val_tn: 111.0000 - val_tp: 60.0000 - val_precision: 0.6818 - val_recall: 0.7143\n",
            "Epoch 14/30\n",
            "67/67 [==============================] - 0s 3ms/step - loss: 0.2562 - fn: 84.0000 - fp: 60.0000 - tn: 350.0000 - tp: 174.0000 - precision: 0.7436 - recall: 0.6744 - val_loss: 0.5499 - val_fn: 25.0000 - val_fp: 27.0000 - val_tn: 112.0000 - val_tp: 59.0000 - val_precision: 0.6860 - val_recall: 0.7024\n",
            "Epoch 15/30\n",
            "67/67 [==============================] - 0s 3ms/step - loss: 0.2533 - fn: 84.0000 - fp: 58.0000 - tn: 352.0000 - tp: 174.0000 - precision: 0.7500 - recall: 0.6744 - val_loss: 0.5437 - val_fn: 25.0000 - val_fp: 26.0000 - val_tn: 113.0000 - val_tp: 59.0000 - val_precision: 0.6941 - val_recall: 0.7024\n",
            "Epoch 16/30\n",
            "67/67 [==============================] - 0s 3ms/step - loss: 0.2506 - fn: 84.0000 - fp: 55.0000 - tn: 355.0000 - tp: 174.0000 - precision: 0.7598 - recall: 0.6744 - val_loss: 0.5379 - val_fn: 25.0000 - val_fp: 26.0000 - val_tn: 113.0000 - val_tp: 59.0000 - val_precision: 0.6941 - val_recall: 0.7024\n",
            "Epoch 17/30\n",
            "67/67 [==============================] - 0s 3ms/step - loss: 0.2481 - fn: 84.0000 - fp: 54.0000 - tn: 356.0000 - tp: 174.0000 - precision: 0.7632 - recall: 0.6744 - val_loss: 0.5326 - val_fn: 25.0000 - val_fp: 26.0000 - val_tn: 113.0000 - val_tp: 59.0000 - val_precision: 0.6941 - val_recall: 0.7024\n",
            "Epoch 18/30\n",
            "67/67 [==============================] - 0s 3ms/step - loss: 0.2457 - fn: 84.0000 - fp: 54.0000 - tn: 356.0000 - tp: 174.0000 - precision: 0.7632 - recall: 0.6744 - val_loss: 0.5276 - val_fn: 25.0000 - val_fp: 26.0000 - val_tn: 113.0000 - val_tp: 59.0000 - val_precision: 0.6941 - val_recall: 0.7024\n",
            "Epoch 19/30\n",
            "67/67 [==============================] - 0s 3ms/step - loss: 0.2435 - fn: 84.0000 - fp: 54.0000 - tn: 356.0000 - tp: 174.0000 - precision: 0.7632 - recall: 0.6744 - val_loss: 0.5228 - val_fn: 26.0000 - val_fp: 26.0000 - val_tn: 113.0000 - val_tp: 58.0000 - val_precision: 0.6905 - val_recall: 0.6905\n",
            "Epoch 20/30\n",
            "67/67 [==============================] - 0s 3ms/step - loss: 0.2415 - fn: 84.0000 - fp: 56.0000 - tn: 354.0000 - tp: 174.0000 - precision: 0.7565 - recall: 0.6744 - val_loss: 0.5184 - val_fn: 26.0000 - val_fp: 26.0000 - val_tn: 113.0000 - val_tp: 58.0000 - val_precision: 0.6905 - val_recall: 0.6905\n",
            "Epoch 21/30\n",
            "67/67 [==============================] - 0s 3ms/step - loss: 0.2396 - fn: 84.0000 - fp: 56.0000 - tn: 354.0000 - tp: 174.0000 - precision: 0.7565 - recall: 0.6744 - val_loss: 0.5145 - val_fn: 26.0000 - val_fp: 26.0000 - val_tn: 113.0000 - val_tp: 58.0000 - val_precision: 0.6905 - val_recall: 0.6905\n",
            "Epoch 22/30\n",
            "67/67 [==============================] - 0s 3ms/step - loss: 0.2380 - fn: 83.0000 - fp: 56.0000 - tn: 354.0000 - tp: 175.0000 - precision: 0.7576 - recall: 0.6783 - val_loss: 0.5109 - val_fn: 26.0000 - val_fp: 26.0000 - val_tn: 113.0000 - val_tp: 58.0000 - val_precision: 0.6905 - val_recall: 0.6905\n",
            "Epoch 23/30\n",
            "67/67 [==============================] - 0s 3ms/step - loss: 0.2365 - fn: 81.0000 - fp: 56.0000 - tn: 354.0000 - tp: 177.0000 - precision: 0.7597 - recall: 0.6860 - val_loss: 0.5073 - val_fn: 26.0000 - val_fp: 26.0000 - val_tn: 113.0000 - val_tp: 58.0000 - val_precision: 0.6905 - val_recall: 0.6905\n",
            "Epoch 24/30\n",
            "67/67 [==============================] - 0s 3ms/step - loss: 0.2351 - fn: 80.0000 - fp: 56.0000 - tn: 354.0000 - tp: 178.0000 - precision: 0.7607 - recall: 0.6899 - val_loss: 0.5039 - val_fn: 26.0000 - val_fp: 26.0000 - val_tn: 113.0000 - val_tp: 58.0000 - val_precision: 0.6905 - val_recall: 0.6905\n",
            "Epoch 25/30\n",
            "67/67 [==============================] - 0s 3ms/step - loss: 0.2338 - fn: 80.0000 - fp: 56.0000 - tn: 354.0000 - tp: 178.0000 - precision: 0.7607 - recall: 0.6899 - val_loss: 0.5008 - val_fn: 26.0000 - val_fp: 26.0000 - val_tn: 113.0000 - val_tp: 58.0000 - val_precision: 0.6905 - val_recall: 0.6905\n",
            "Epoch 26/30\n",
            "67/67 [==============================] - 0s 3ms/step - loss: 0.2326 - fn: 79.0000 - fp: 57.0000 - tn: 353.0000 - tp: 179.0000 - precision: 0.7585 - recall: 0.6938 - val_loss: 0.4978 - val_fn: 26.0000 - val_fp: 26.0000 - val_tn: 113.0000 - val_tp: 58.0000 - val_precision: 0.6905 - val_recall: 0.6905\n",
            "Epoch 27/30\n",
            "67/67 [==============================] - 0s 3ms/step - loss: 0.2315 - fn: 79.0000 - fp: 57.0000 - tn: 353.0000 - tp: 179.0000 - precision: 0.7585 - recall: 0.6938 - val_loss: 0.4951 - val_fn: 26.0000 - val_fp: 26.0000 - val_tn: 113.0000 - val_tp: 58.0000 - val_precision: 0.6905 - val_recall: 0.6905\n",
            "Epoch 28/30\n",
            "67/67 [==============================] - 0s 3ms/step - loss: 0.2304 - fn: 80.0000 - fp: 55.0000 - tn: 355.0000 - tp: 178.0000 - precision: 0.7639 - recall: 0.6899 - val_loss: 0.4928 - val_fn: 26.0000 - val_fp: 25.0000 - val_tn: 114.0000 - val_tp: 58.0000 - val_precision: 0.6988 - val_recall: 0.6905\n",
            "Epoch 29/30\n",
            "67/67 [==============================] - 0s 3ms/step - loss: 0.2293 - fn: 79.0000 - fp: 57.0000 - tn: 353.0000 - tp: 179.0000 - precision: 0.7585 - recall: 0.6938 - val_loss: 0.4902 - val_fn: 26.0000 - val_fp: 25.0000 - val_tn: 114.0000 - val_tp: 58.0000 - val_precision: 0.6988 - val_recall: 0.6905\n",
            "Epoch 30/30\n",
            "67/67 [==============================] - 0s 3ms/step - loss: 0.2284 - fn: 79.0000 - fp: 57.0000 - tn: 353.0000 - tp: 179.0000 - precision: 0.7585 - recall: 0.6938 - val_loss: 0.4878 - val_fn: 26.0000 - val_fp: 25.0000 - val_tn: 114.0000 - val_tp: 58.0000 - val_precision: 0.6988 - val_recall: 0.6905\n"
          ]
        }
      ]
    },
    {
      "cell_type": "code",
      "source": [
        "#metrics for validation\n",
        "score2 = model2.evaluate(X_val, y_val, verbose=0)\n",
        "print(\"Falsos negativos: \", score2[1])\n",
        "print(\"Falsos positivos: \", score2[2])\n",
        "print(\"Verdadeiros negativos: \", score2[3])\n",
        "print(\"Verdadeiros positivos: \", score2[4])\n",
        "print(\"Precisao: \", score2[5])\n",
        "print(\"Revocacao: \", score2[6])"
      ],
      "metadata": {
        "colab": {
          "base_uri": "https://localhost:8080/"
        },
        "id": "XLVUYKF69_Gc",
        "outputId": "c10279e4-b85d-478a-a64d-ab18b79b14ee"
      },
      "execution_count": 37,
      "outputs": [
        {
          "output_type": "stream",
          "name": "stdout",
          "text": [
            "Falsos negativos:  26.0\n",
            "Falsos positivos:  25.0\n",
            "Verdadeiros negativos:  114.0\n",
            "Verdadeiros positivos:  58.0\n",
            "Precisao:  0.6987951993942261\n",
            "Revocacao:  0.6904761791229248\n"
          ]
        }
      ]
    },
    {
      "cell_type": "markdown",
      "source": [
        "Model performance got better after normalization"
      ],
      "metadata": {
        "id": "3WbK_NL6-Trl"
      }
    },
    {
      "cell_type": "code",
      "source": [
        "#adding more layers\n",
        "model3 = keras.Sequential(\n",
        " [\n",
        "    keras.layers.Dense(4, activation=\"relu\", input_shape=(X_train.shape[-1],)),\n",
        "    keras.layers.Dense(4, activation=\"relu\"),\n",
        "    keras.layers.Dense(4, activation=\"relu\"),\n",
        "    keras.layers.Dense(1, activation=\"sigmoid\"),\n",
        " ]\n",
        ")\n",
        "model3.summary()\n",
        "\n",
        "# compilamos o modelo utilizando:\n",
        "#- um otimizador SGD\n",
        "#- a função de perda entropia cruzada\n",
        "#- as métricas acima\n",
        "model3.compile(\n",
        "    optimizer=keras.optimizers.SGD(), loss=\"binary_crossentropy\", metrics=metrics\n",
        ")\n",
        "\n",
        "history3 = model3.fit(\n",
        "    X_train,\n",
        "    y_train,\n",
        "    batch_size=batch_size,\n",
        "    epochs=epochs*2,\n",
        "    verbose=1,\n",
        "    validation_data=(X_val, y_val),\n",
        "    class_weight=class_weight,\n",
        ")"
      ],
      "metadata": {
        "colab": {
          "base_uri": "https://localhost:8080/"
        },
        "id": "_EfdXCWi-1gL",
        "outputId": "53b827b2-b21e-4509-9261-7e1ac7aac113"
      },
      "execution_count": 38,
      "outputs": [
        {
          "output_type": "stream",
          "name": "stdout",
          "text": [
            "Model: \"sequential_2\"\n",
            "_________________________________________________________________\n",
            " Layer (type)                Output Shape              Param #   \n",
            "=================================================================\n",
            " dense_4 (Dense)             (None, 4)                 28        \n",
            "                                                                 \n",
            " dense_5 (Dense)             (None, 4)                 20        \n",
            "                                                                 \n",
            " dense_6 (Dense)             (None, 4)                 20        \n",
            "                                                                 \n",
            " dense_7 (Dense)             (None, 1)                 5         \n",
            "                                                                 \n",
            "=================================================================\n",
            "Total params: 73\n",
            "Trainable params: 73\n",
            "Non-trainable params: 0\n",
            "_________________________________________________________________\n",
            "Epoch 1/60\n",
            "67/67 [==============================] - 2s 14ms/step - loss: 0.3432 - fn: 271.0000 - fp: 33.0000 - tn: 516.0000 - tp: 71.0000 - precision: 0.6827 - recall: 0.2076 - val_loss: 0.6593 - val_fn: 77.0000 - val_fp: 6.0000 - val_tn: 133.0000 - val_tp: 7.0000 - val_precision: 0.5385 - val_recall: 0.0833\n",
            "Epoch 2/60\n",
            "67/67 [==============================] - 0s 4ms/step - loss: 0.3296 - fn: 223.0000 - fp: 18.0000 - tn: 392.0000 - tp: 35.0000 - precision: 0.6604 - recall: 0.1357 - val_loss: 0.6403 - val_fn: 67.0000 - val_fp: 13.0000 - val_tn: 126.0000 - val_tp: 17.0000 - val_precision: 0.5667 - val_recall: 0.2024\n",
            "Epoch 3/60\n",
            "67/67 [==============================] - 0s 4ms/step - loss: 0.3202 - fn: 197.0000 - fp: 32.0000 - tn: 378.0000 - tp: 61.0000 - precision: 0.6559 - recall: 0.2364 - val_loss: 0.6242 - val_fn: 60.0000 - val_fp: 20.0000 - val_tn: 119.0000 - val_tp: 24.0000 - val_precision: 0.5455 - val_recall: 0.2857\n",
            "Epoch 4/60\n",
            "67/67 [==============================] - 0s 4ms/step - loss: 0.3127 - fn: 173.0000 - fp: 37.0000 - tn: 373.0000 - tp: 85.0000 - precision: 0.6967 - recall: 0.3295 - val_loss: 0.6096 - val_fn: 53.0000 - val_fp: 26.0000 - val_tn: 113.0000 - val_tp: 31.0000 - val_precision: 0.5439 - val_recall: 0.3690\n",
            "Epoch 5/60\n",
            "67/67 [==============================] - 0s 3ms/step - loss: 0.3065 - fn: 153.0000 - fp: 45.0000 - tn: 365.0000 - tp: 105.0000 - precision: 0.7000 - recall: 0.4070 - val_loss: 0.5967 - val_fn: 45.0000 - val_fp: 28.0000 - val_tn: 111.0000 - val_tp: 39.0000 - val_precision: 0.5821 - val_recall: 0.4643\n",
            "Epoch 6/60\n",
            "67/67 [==============================] - 0s 3ms/step - loss: 0.3010 - fn: 137.0000 - fp: 56.0000 - tn: 354.0000 - tp: 121.0000 - precision: 0.6836 - recall: 0.4690 - val_loss: 0.5850 - val_fn: 39.0000 - val_fp: 32.0000 - val_tn: 107.0000 - val_tp: 45.0000 - val_precision: 0.5844 - val_recall: 0.5357\n",
            "Epoch 7/60\n",
            "67/67 [==============================] - 0s 3ms/step - loss: 0.2962 - fn: 118.0000 - fp: 63.0000 - tn: 347.0000 - tp: 140.0000 - precision: 0.6897 - recall: 0.5426 - val_loss: 0.5755 - val_fn: 37.0000 - val_fp: 33.0000 - val_tn: 106.0000 - val_tp: 47.0000 - val_precision: 0.5875 - val_recall: 0.5595\n",
            "Epoch 8/60\n",
            "67/67 [==============================] - 0s 3ms/step - loss: 0.2919 - fn: 107.0000 - fp: 70.0000 - tn: 340.0000 - tp: 151.0000 - precision: 0.6833 - recall: 0.5853 - val_loss: 0.5666 - val_fn: 30.0000 - val_fp: 34.0000 - val_tn: 105.0000 - val_tp: 54.0000 - val_precision: 0.6136 - val_recall: 0.6429\n",
            "Epoch 9/60\n",
            "67/67 [==============================] - 0s 3ms/step - loss: 0.2881 - fn: 100.0000 - fp: 73.0000 - tn: 337.0000 - tp: 158.0000 - precision: 0.6840 - recall: 0.6124 - val_loss: 0.5586 - val_fn: 28.0000 - val_fp: 35.0000 - val_tn: 104.0000 - val_tp: 56.0000 - val_precision: 0.6154 - val_recall: 0.6667\n",
            "Epoch 10/60\n",
            "67/67 [==============================] - 0s 4ms/step - loss: 0.2845 - fn: 93.0000 - fp: 77.0000 - tn: 333.0000 - tp: 165.0000 - precision: 0.6818 - recall: 0.6395 - val_loss: 0.5512 - val_fn: 26.0000 - val_fp: 35.0000 - val_tn: 104.0000 - val_tp: 58.0000 - val_precision: 0.6237 - val_recall: 0.6905\n",
            "Epoch 11/60\n",
            "67/67 [==============================] - 0s 3ms/step - loss: 0.2812 - fn: 85.0000 - fp: 79.0000 - tn: 331.0000 - tp: 173.0000 - precision: 0.6865 - recall: 0.6705 - val_loss: 0.5451 - val_fn: 24.0000 - val_fp: 35.0000 - val_tn: 104.0000 - val_tp: 60.0000 - val_precision: 0.6316 - val_recall: 0.7143\n",
            "Epoch 12/60\n",
            "67/67 [==============================] - 0s 3ms/step - loss: 0.2782 - fn: 82.0000 - fp: 84.0000 - tn: 326.0000 - tp: 176.0000 - precision: 0.6769 - recall: 0.6822 - val_loss: 0.5400 - val_fn: 22.0000 - val_fp: 35.0000 - val_tn: 104.0000 - val_tp: 62.0000 - val_precision: 0.6392 - val_recall: 0.7381\n",
            "Epoch 13/60\n",
            "67/67 [==============================] - 0s 4ms/step - loss: 0.2756 - fn: 80.0000 - fp: 84.0000 - tn: 326.0000 - tp: 178.0000 - precision: 0.6794 - recall: 0.6899 - val_loss: 0.5359 - val_fn: 21.0000 - val_fp: 35.0000 - val_tn: 104.0000 - val_tp: 63.0000 - val_precision: 0.6429 - val_recall: 0.7500\n",
            "Epoch 14/60\n",
            "67/67 [==============================] - 0s 3ms/step - loss: 0.2732 - fn: 74.0000 - fp: 85.0000 - tn: 325.0000 - tp: 184.0000 - precision: 0.6840 - recall: 0.7132 - val_loss: 0.5317 - val_fn: 21.0000 - val_fp: 35.0000 - val_tn: 104.0000 - val_tp: 63.0000 - val_precision: 0.6429 - val_recall: 0.7500\n",
            "Epoch 15/60\n",
            "67/67 [==============================] - 0s 3ms/step - loss: 0.2710 - fn: 67.0000 - fp: 84.0000 - tn: 326.0000 - tp: 191.0000 - precision: 0.6945 - recall: 0.7403 - val_loss: 0.5278 - val_fn: 21.0000 - val_fp: 35.0000 - val_tn: 104.0000 - val_tp: 63.0000 - val_precision: 0.6429 - val_recall: 0.7500\n",
            "Epoch 16/60\n",
            "67/67 [==============================] - 0s 4ms/step - loss: 0.2690 - fn: 67.0000 - fp: 84.0000 - tn: 326.0000 - tp: 191.0000 - precision: 0.6945 - recall: 0.7403 - val_loss: 0.5260 - val_fn: 21.0000 - val_fp: 35.0000 - val_tn: 104.0000 - val_tp: 63.0000 - val_precision: 0.6429 - val_recall: 0.7500\n",
            "Epoch 17/60\n",
            "67/67 [==============================] - 0s 3ms/step - loss: 0.2674 - fn: 65.0000 - fp: 84.0000 - tn: 326.0000 - tp: 193.0000 - precision: 0.6968 - recall: 0.7481 - val_loss: 0.5226 - val_fn: 21.0000 - val_fp: 35.0000 - val_tn: 104.0000 - val_tp: 63.0000 - val_precision: 0.6429 - val_recall: 0.7500\n",
            "Epoch 18/60\n",
            "67/67 [==============================] - 0s 3ms/step - loss: 0.2657 - fn: 66.0000 - fp: 84.0000 - tn: 326.0000 - tp: 192.0000 - precision: 0.6957 - recall: 0.7442 - val_loss: 0.5204 - val_fn: 21.0000 - val_fp: 35.0000 - val_tn: 104.0000 - val_tp: 63.0000 - val_precision: 0.6429 - val_recall: 0.7500\n",
            "Epoch 19/60\n",
            "67/67 [==============================] - 0s 3ms/step - loss: 0.2643 - fn: 65.0000 - fp: 84.0000 - tn: 326.0000 - tp: 193.0000 - precision: 0.6968 - recall: 0.7481 - val_loss: 0.5186 - val_fn: 21.0000 - val_fp: 35.0000 - val_tn: 104.0000 - val_tp: 63.0000 - val_precision: 0.6429 - val_recall: 0.7500\n",
            "Epoch 20/60\n",
            "67/67 [==============================] - 0s 3ms/step - loss: 0.2629 - fn: 64.0000 - fp: 84.0000 - tn: 326.0000 - tp: 194.0000 - precision: 0.6978 - recall: 0.7519 - val_loss: 0.5181 - val_fn: 20.0000 - val_fp: 35.0000 - val_tn: 104.0000 - val_tp: 64.0000 - val_precision: 0.6465 - val_recall: 0.7619\n",
            "Epoch 21/60\n",
            "67/67 [==============================] - 0s 4ms/step - loss: 0.2618 - fn: 63.0000 - fp: 86.0000 - tn: 324.0000 - tp: 195.0000 - precision: 0.6940 - recall: 0.7558 - val_loss: 0.5158 - val_fn: 21.0000 - val_fp: 35.0000 - val_tn: 104.0000 - val_tp: 63.0000 - val_precision: 0.6429 - val_recall: 0.7500\n",
            "Epoch 22/60\n",
            "67/67 [==============================] - 0s 4ms/step - loss: 0.2605 - fn: 63.0000 - fp: 85.0000 - tn: 325.0000 - tp: 195.0000 - precision: 0.6964 - recall: 0.7558 - val_loss: 0.5141 - val_fn: 20.0000 - val_fp: 35.0000 - val_tn: 104.0000 - val_tp: 64.0000 - val_precision: 0.6465 - val_recall: 0.7619\n",
            "Epoch 23/60\n",
            "67/67 [==============================] - 0s 4ms/step - loss: 0.2594 - fn: 63.0000 - fp: 87.0000 - tn: 323.0000 - tp: 195.0000 - precision: 0.6915 - recall: 0.7558 - val_loss: 0.5137 - val_fn: 20.0000 - val_fp: 35.0000 - val_tn: 104.0000 - val_tp: 64.0000 - val_precision: 0.6465 - val_recall: 0.7619\n",
            "Epoch 24/60\n",
            "67/67 [==============================] - 0s 3ms/step - loss: 0.2584 - fn: 63.0000 - fp: 88.0000 - tn: 322.0000 - tp: 195.0000 - precision: 0.6890 - recall: 0.7558 - val_loss: 0.5120 - val_fn: 20.0000 - val_fp: 35.0000 - val_tn: 104.0000 - val_tp: 64.0000 - val_precision: 0.6465 - val_recall: 0.7619\n",
            "Epoch 25/60\n",
            "67/67 [==============================] - 0s 3ms/step - loss: 0.2574 - fn: 63.0000 - fp: 88.0000 - tn: 322.0000 - tp: 195.0000 - precision: 0.6890 - recall: 0.7558 - val_loss: 0.5115 - val_fn: 20.0000 - val_fp: 35.0000 - val_tn: 104.0000 - val_tp: 64.0000 - val_precision: 0.6465 - val_recall: 0.7619\n",
            "Epoch 26/60\n",
            "67/67 [==============================] - 0s 3ms/step - loss: 0.2565 - fn: 64.0000 - fp: 87.0000 - tn: 323.0000 - tp: 194.0000 - precision: 0.6904 - recall: 0.7519 - val_loss: 0.5119 - val_fn: 19.0000 - val_fp: 35.0000 - val_tn: 104.0000 - val_tp: 65.0000 - val_precision: 0.6500 - val_recall: 0.7738\n",
            "Epoch 27/60\n",
            "67/67 [==============================] - 0s 3ms/step - loss: 0.2555 - fn: 63.0000 - fp: 88.0000 - tn: 322.0000 - tp: 195.0000 - precision: 0.6890 - recall: 0.7558 - val_loss: 0.5108 - val_fn: 18.0000 - val_fp: 35.0000 - val_tn: 104.0000 - val_tp: 66.0000 - val_precision: 0.6535 - val_recall: 0.7857\n",
            "Epoch 28/60\n",
            "67/67 [==============================] - 0s 4ms/step - loss: 0.2547 - fn: 63.0000 - fp: 88.0000 - tn: 322.0000 - tp: 195.0000 - precision: 0.6890 - recall: 0.7558 - val_loss: 0.5089 - val_fn: 17.0000 - val_fp: 35.0000 - val_tn: 104.0000 - val_tp: 67.0000 - val_precision: 0.6569 - val_recall: 0.7976\n",
            "Epoch 29/60\n",
            "67/67 [==============================] - 0s 3ms/step - loss: 0.2538 - fn: 63.0000 - fp: 86.0000 - tn: 324.0000 - tp: 195.0000 - precision: 0.6940 - recall: 0.7558 - val_loss: 0.5082 - val_fn: 17.0000 - val_fp: 35.0000 - val_tn: 104.0000 - val_tp: 67.0000 - val_precision: 0.6569 - val_recall: 0.7976\n",
            "Epoch 30/60\n",
            "67/67 [==============================] - 0s 4ms/step - loss: 0.2531 - fn: 63.0000 - fp: 87.0000 - tn: 323.0000 - tp: 195.0000 - precision: 0.6915 - recall: 0.7558 - val_loss: 0.5071 - val_fn: 18.0000 - val_fp: 35.0000 - val_tn: 104.0000 - val_tp: 66.0000 - val_precision: 0.6535 - val_recall: 0.7857\n",
            "Epoch 31/60\n",
            "67/67 [==============================] - 0s 3ms/step - loss: 0.2522 - fn: 63.0000 - fp: 86.0000 - tn: 324.0000 - tp: 195.0000 - precision: 0.6940 - recall: 0.7558 - val_loss: 0.5078 - val_fn: 18.0000 - val_fp: 35.0000 - val_tn: 104.0000 - val_tp: 66.0000 - val_precision: 0.6535 - val_recall: 0.7857\n",
            "Epoch 32/60\n",
            "67/67 [==============================] - 0s 4ms/step - loss: 0.2515 - fn: 64.0000 - fp: 89.0000 - tn: 321.0000 - tp: 194.0000 - precision: 0.6855 - recall: 0.7519 - val_loss: 0.5073 - val_fn: 17.0000 - val_fp: 35.0000 - val_tn: 104.0000 - val_tp: 67.0000 - val_precision: 0.6569 - val_recall: 0.7976\n",
            "Epoch 33/60\n",
            "67/67 [==============================] - 0s 4ms/step - loss: 0.2507 - fn: 62.0000 - fp: 89.0000 - tn: 321.0000 - tp: 196.0000 - precision: 0.6877 - recall: 0.7597 - val_loss: 0.5060 - val_fn: 19.0000 - val_fp: 35.0000 - val_tn: 104.0000 - val_tp: 65.0000 - val_precision: 0.6500 - val_recall: 0.7738\n",
            "Epoch 34/60\n",
            "67/67 [==============================] - 0s 3ms/step - loss: 0.2499 - fn: 63.0000 - fp: 87.0000 - tn: 323.0000 - tp: 195.0000 - precision: 0.6915 - recall: 0.7558 - val_loss: 0.5049 - val_fn: 19.0000 - val_fp: 35.0000 - val_tn: 104.0000 - val_tp: 65.0000 - val_precision: 0.6500 - val_recall: 0.7738\n",
            "Epoch 35/60\n",
            "67/67 [==============================] - 0s 3ms/step - loss: 0.2492 - fn: 63.0000 - fp: 87.0000 - tn: 323.0000 - tp: 195.0000 - precision: 0.6915 - recall: 0.7558 - val_loss: 0.5024 - val_fn: 19.0000 - val_fp: 35.0000 - val_tn: 104.0000 - val_tp: 65.0000 - val_precision: 0.6500 - val_recall: 0.7738\n",
            "Epoch 36/60\n",
            "67/67 [==============================] - 0s 3ms/step - loss: 0.2483 - fn: 62.0000 - fp: 87.0000 - tn: 323.0000 - tp: 196.0000 - precision: 0.6926 - recall: 0.7597 - val_loss: 0.5009 - val_fn: 19.0000 - val_fp: 35.0000 - val_tn: 104.0000 - val_tp: 65.0000 - val_precision: 0.6500 - val_recall: 0.7738\n",
            "Epoch 37/60\n",
            "67/67 [==============================] - 0s 4ms/step - loss: 0.2475 - fn: 63.0000 - fp: 88.0000 - tn: 322.0000 - tp: 195.0000 - precision: 0.6890 - recall: 0.7558 - val_loss: 0.4999 - val_fn: 19.0000 - val_fp: 35.0000 - val_tn: 104.0000 - val_tp: 65.0000 - val_precision: 0.6500 - val_recall: 0.7738\n",
            "Epoch 38/60\n",
            "67/67 [==============================] - 0s 3ms/step - loss: 0.2468 - fn: 63.0000 - fp: 85.0000 - tn: 325.0000 - tp: 195.0000 - precision: 0.6964 - recall: 0.7558 - val_loss: 0.5001 - val_fn: 18.0000 - val_fp: 35.0000 - val_tn: 104.0000 - val_tp: 66.0000 - val_precision: 0.6535 - val_recall: 0.7857\n",
            "Epoch 39/60\n",
            "67/67 [==============================] - 0s 4ms/step - loss: 0.2461 - fn: 63.0000 - fp: 84.0000 - tn: 326.0000 - tp: 195.0000 - precision: 0.6989 - recall: 0.7558 - val_loss: 0.5004 - val_fn: 18.0000 - val_fp: 36.0000 - val_tn: 103.0000 - val_tp: 66.0000 - val_precision: 0.6471 - val_recall: 0.7857\n",
            "Epoch 40/60\n",
            "67/67 [==============================] - 0s 3ms/step - loss: 0.2454 - fn: 63.0000 - fp: 86.0000 - tn: 324.0000 - tp: 195.0000 - precision: 0.6940 - recall: 0.7558 - val_loss: 0.5001 - val_fn: 18.0000 - val_fp: 36.0000 - val_tn: 103.0000 - val_tp: 66.0000 - val_precision: 0.6471 - val_recall: 0.7857\n",
            "Epoch 41/60\n",
            "67/67 [==============================] - 0s 3ms/step - loss: 0.2446 - fn: 62.0000 - fp: 86.0000 - tn: 324.0000 - tp: 196.0000 - precision: 0.6950 - recall: 0.7597 - val_loss: 0.4998 - val_fn: 18.0000 - val_fp: 36.0000 - val_tn: 103.0000 - val_tp: 66.0000 - val_precision: 0.6471 - val_recall: 0.7857\n",
            "Epoch 42/60\n",
            "67/67 [==============================] - 0s 3ms/step - loss: 0.2438 - fn: 62.0000 - fp: 86.0000 - tn: 324.0000 - tp: 196.0000 - precision: 0.6950 - recall: 0.7597 - val_loss: 0.4991 - val_fn: 18.0000 - val_fp: 36.0000 - val_tn: 103.0000 - val_tp: 66.0000 - val_precision: 0.6471 - val_recall: 0.7857\n",
            "Epoch 43/60\n",
            "67/67 [==============================] - 0s 3ms/step - loss: 0.2431 - fn: 60.0000 - fp: 86.0000 - tn: 324.0000 - tp: 198.0000 - precision: 0.6972 - recall: 0.7674 - val_loss: 0.4970 - val_fn: 19.0000 - val_fp: 36.0000 - val_tn: 103.0000 - val_tp: 65.0000 - val_precision: 0.6436 - val_recall: 0.7738\n",
            "Epoch 44/60\n",
            "67/67 [==============================] - 0s 3ms/step - loss: 0.2424 - fn: 61.0000 - fp: 81.0000 - tn: 329.0000 - tp: 197.0000 - precision: 0.7086 - recall: 0.7636 - val_loss: 0.4958 - val_fn: 19.0000 - val_fp: 36.0000 - val_tn: 103.0000 - val_tp: 65.0000 - val_precision: 0.6436 - val_recall: 0.7738\n",
            "Epoch 45/60\n",
            "67/67 [==============================] - 0s 3ms/step - loss: 0.2417 - fn: 60.0000 - fp: 82.0000 - tn: 328.0000 - tp: 198.0000 - precision: 0.7071 - recall: 0.7674 - val_loss: 0.4955 - val_fn: 19.0000 - val_fp: 36.0000 - val_tn: 103.0000 - val_tp: 65.0000 - val_precision: 0.6436 - val_recall: 0.7738\n",
            "Epoch 46/60\n",
            "67/67 [==============================] - 0s 3ms/step - loss: 0.2411 - fn: 61.0000 - fp: 80.0000 - tn: 330.0000 - tp: 197.0000 - precision: 0.7112 - recall: 0.7636 - val_loss: 0.4969 - val_fn: 18.0000 - val_fp: 36.0000 - val_tn: 103.0000 - val_tp: 66.0000 - val_precision: 0.6471 - val_recall: 0.7857\n",
            "Epoch 47/60\n",
            "67/67 [==============================] - 0s 3ms/step - loss: 0.2406 - fn: 62.0000 - fp: 80.0000 - tn: 330.0000 - tp: 196.0000 - precision: 0.7101 - recall: 0.7597 - val_loss: 0.4959 - val_fn: 18.0000 - val_fp: 36.0000 - val_tn: 103.0000 - val_tp: 66.0000 - val_precision: 0.6471 - val_recall: 0.7857\n",
            "Epoch 48/60\n",
            "67/67 [==============================] - 0s 3ms/step - loss: 0.2399 - fn: 61.0000 - fp: 79.0000 - tn: 331.0000 - tp: 197.0000 - precision: 0.7138 - recall: 0.7636 - val_loss: 0.4960 - val_fn: 17.0000 - val_fp: 36.0000 - val_tn: 103.0000 - val_tp: 67.0000 - val_precision: 0.6505 - val_recall: 0.7976\n",
            "Epoch 49/60\n",
            "67/67 [==============================] - 0s 3ms/step - loss: 0.2392 - fn: 60.0000 - fp: 80.0000 - tn: 330.0000 - tp: 198.0000 - precision: 0.7122 - recall: 0.7674 - val_loss: 0.4939 - val_fn: 18.0000 - val_fp: 36.0000 - val_tn: 103.0000 - val_tp: 66.0000 - val_precision: 0.6471 - val_recall: 0.7857\n",
            "Epoch 50/60\n",
            "67/67 [==============================] - 0s 3ms/step - loss: 0.2387 - fn: 61.0000 - fp: 78.0000 - tn: 332.0000 - tp: 197.0000 - precision: 0.7164 - recall: 0.7636 - val_loss: 0.4941 - val_fn: 17.0000 - val_fp: 36.0000 - val_tn: 103.0000 - val_tp: 67.0000 - val_precision: 0.6505 - val_recall: 0.7976\n",
            "Epoch 51/60\n",
            "67/67 [==============================] - 0s 4ms/step - loss: 0.2381 - fn: 61.0000 - fp: 77.0000 - tn: 333.0000 - tp: 197.0000 - precision: 0.7190 - recall: 0.7636 - val_loss: 0.4951 - val_fn: 17.0000 - val_fp: 35.0000 - val_tn: 104.0000 - val_tp: 67.0000 - val_precision: 0.6569 - val_recall: 0.7976\n",
            "Epoch 52/60\n",
            "67/67 [==============================] - 0s 3ms/step - loss: 0.2376 - fn: 61.0000 - fp: 75.0000 - tn: 335.0000 - tp: 197.0000 - precision: 0.7243 - recall: 0.7636 - val_loss: 0.4923 - val_fn: 17.0000 - val_fp: 32.0000 - val_tn: 107.0000 - val_tp: 67.0000 - val_precision: 0.6768 - val_recall: 0.7976\n",
            "Epoch 53/60\n",
            "67/67 [==============================] - 0s 3ms/step - loss: 0.2369 - fn: 63.0000 - fp: 72.0000 - tn: 338.0000 - tp: 195.0000 - precision: 0.7303 - recall: 0.7558 - val_loss: 0.4937 - val_fn: 17.0000 - val_fp: 32.0000 - val_tn: 107.0000 - val_tp: 67.0000 - val_precision: 0.6768 - val_recall: 0.7976\n",
            "Epoch 54/60\n",
            "67/67 [==============================] - 0s 3ms/step - loss: 0.2363 - fn: 60.0000 - fp: 72.0000 - tn: 338.0000 - tp: 198.0000 - precision: 0.7333 - recall: 0.7674 - val_loss: 0.4914 - val_fn: 17.0000 - val_fp: 31.0000 - val_tn: 108.0000 - val_tp: 67.0000 - val_precision: 0.6837 - val_recall: 0.7976\n",
            "Epoch 55/60\n",
            "67/67 [==============================] - 0s 3ms/step - loss: 0.2359 - fn: 62.0000 - fp: 70.0000 - tn: 340.0000 - tp: 196.0000 - precision: 0.7368 - recall: 0.7597 - val_loss: 0.4912 - val_fn: 17.0000 - val_fp: 31.0000 - val_tn: 108.0000 - val_tp: 67.0000 - val_precision: 0.6837 - val_recall: 0.7976\n",
            "Epoch 56/60\n",
            "67/67 [==============================] - 0s 3ms/step - loss: 0.2352 - fn: 62.0000 - fp: 70.0000 - tn: 340.0000 - tp: 196.0000 - precision: 0.7368 - recall: 0.7597 - val_loss: 0.4915 - val_fn: 17.0000 - val_fp: 30.0000 - val_tn: 109.0000 - val_tp: 67.0000 - val_precision: 0.6907 - val_recall: 0.7976\n",
            "Epoch 57/60\n",
            "67/67 [==============================] - 0s 4ms/step - loss: 0.2348 - fn: 62.0000 - fp: 69.0000 - tn: 341.0000 - tp: 196.0000 - precision: 0.7396 - recall: 0.7597 - val_loss: 0.4906 - val_fn: 17.0000 - val_fp: 29.0000 - val_tn: 110.0000 - val_tp: 67.0000 - val_precision: 0.6979 - val_recall: 0.7976\n",
            "Epoch 58/60\n",
            "67/67 [==============================] - 0s 3ms/step - loss: 0.2344 - fn: 61.0000 - fp: 67.0000 - tn: 343.0000 - tp: 197.0000 - precision: 0.7462 - recall: 0.7636 - val_loss: 0.4904 - val_fn: 17.0000 - val_fp: 29.0000 - val_tn: 110.0000 - val_tp: 67.0000 - val_precision: 0.6979 - val_recall: 0.7976\n",
            "Epoch 59/60\n",
            "67/67 [==============================] - 0s 3ms/step - loss: 0.2339 - fn: 61.0000 - fp: 67.0000 - tn: 343.0000 - tp: 197.0000 - precision: 0.7462 - recall: 0.7636 - val_loss: 0.4895 - val_fn: 17.0000 - val_fp: 29.0000 - val_tn: 110.0000 - val_tp: 67.0000 - val_precision: 0.6979 - val_recall: 0.7976\n",
            "Epoch 60/60\n",
            "67/67 [==============================] - 0s 3ms/step - loss: 0.2334 - fn: 62.0000 - fp: 67.0000 - tn: 343.0000 - tp: 196.0000 - precision: 0.7452 - recall: 0.7597 - val_loss: 0.4897 - val_fn: 17.0000 - val_fp: 29.0000 - val_tn: 110.0000 - val_tp: 67.0000 - val_precision: 0.6979 - val_recall: 0.7976\n"
          ]
        }
      ]
    },
    {
      "cell_type": "code",
      "source": [
        "plt.plot(history2.history[\"loss\"], '-b', label=\"1L-train\")\n",
        "plt.plot(history3.history[\"loss\"], '-g', label=\"2L-train\")\n",
        "plt.title(\"model loss\")\n",
        "plt.ylabel(\"loss\")\n",
        "plt.xlabel(\"epoch\")\n",
        "plt.legend(loc=\"upper left\")\n",
        "plt.show()"
      ],
      "metadata": {
        "colab": {
          "base_uri": "https://localhost:8080/",
          "height": 295
        },
        "id": "K0ldZ_CH_JPf",
        "outputId": "b4250a7a-3984-4a02-b80b-637e45736576"
      },
      "execution_count": 39,
      "outputs": [
        {
          "output_type": "display_data",
          "data": {
            "image/png": "[encoded data removed]",
            "text/plain": [
              "<Figure size 432x288 with 1 Axes>"
            ]
          },
          "metadata": {
            "needs_background": "light"
          }
        }
      ]
    },
    {
      "cell_type": "code",
      "source": [
        "# Computando as métricas para o teste\n",
        "score3 = model3.evaluate(X_val, y_val, verbose=0)\n",
        "\n",
        "print(\"Rede rasa\")\n",
        "print(\"--------\")\n",
        "print(\"Falsos negativos: \", score2[1])\n",
        "print(\"Falsos positivos: \", score2[2])\n",
        "print(\"Verdadeiros negativos: \", score2[3])\n",
        "print(\"Verdadeiros positivos: \", score2[4])\n",
        "print(\"Precisao: %.3f\" % score2[5])\n",
        "print(\"Revocacao: %.3f\\n\" % score2[6])\n",
        "\n",
        "print(\"Rede profunda\")\n",
        "print(\"--------\")\n",
        "print(\"Falsos negativos: \", score3[1])\n",
        "print(\"Falsos positivos: \", score3[2])\n",
        "print(\"Verdadeiros negativos: \", score3[3])\n",
        "print(\"Verdadeiros positivos: \", score3[4])\n",
        "print(\"Precisao: %.3f\" % score3[5])\n",
        "print(\"Revocacao: %.3f\" % score3[6])"
      ],
      "metadata": {
        "colab": {
          "base_uri": "https://localhost:8080/"
        },
        "id": "Czbyb4mi_Qz-",
        "outputId": "60fc6cb8-ab3f-450e-cd2c-6c26202c135f"
      },
      "execution_count": 40,
      "outputs": [
        {
          "output_type": "stream",
          "name": "stdout",
          "text": [
            "Rede rasa\n",
            "--------\n",
            "Falsos negativos:  26.0\n",
            "Falsos positivos:  25.0\n",
            "Verdadeiros negativos:  114.0\n",
            "Verdadeiros positivos:  58.0\n",
            "Precisao: 0.699\n",
            "Revocacao: 0.690\n",
            "\n",
            "Rede profunda\n",
            "--------\n",
            "Falsos negativos:  17.0\n",
            "Falsos positivos:  29.0\n",
            "Verdadeiros negativos:  110.0\n",
            "Verdadeiros positivos:  67.0\n",
            "Precisao: 0.698\n",
            "Revocacao: 0.798\n"
          ]
        }
      ]
    }
  ],
  "metadata": {
    "colab": {
      "name": "Titanic Kaggle Challenge - Neural Network.ipynb",
      "provenance": [],
      "collapsed_sections": [],
      "authorship_tag": "ABX9TyPlIR/ugVlq1VwxXiEP1eYs",
      "include_colab_link": true
    },
    "kernelspec": {
      "display_name": "Python 3",
      "name": "python3"
    },
    "language_info": {
      "name": "python"
    }
  },
  "nbformat": 4,
  "nbformat_minor": 0
}